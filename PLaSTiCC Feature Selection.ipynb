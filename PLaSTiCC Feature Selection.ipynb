{
 "cells": [
  {
   "cell_type": "markdown",
   "metadata": {},
   "source": [
    "# Feature Engineering & Selection of Feature Sets"
   ]
  },
  {
   "cell_type": "markdown",
   "metadata": {},
   "source": [
    "In the following notebook, I will look at a number of different ways to create a feature set to use as the training data for the neural network classification model. The first steps are to import the required libraries and then import the data sets. There are two related datasets; the dataframe containing the flux and time informormation and then the dataframe containing meta details regarding to each individual astronomical object.\n",
    "\n",
    "The first feature engineering method I try is manual feature generation. I create basic features based on standard aggregate statistical measures like mean, max, skew of the flux information and append it to the meta dataframe. This will be the first feature set I train the classifier with. Next, I will use feature selection tools to decrease the dimensionality of this feature set. This will be the second set of data that I will train the classifer with.\n",
    "\n",
    "The second feature engineering method I try is to create features using the Featuretools library. First, I define some primative and transform aggregations for the tool to use. The dimension of features using this tool can become very large so I will use similar feature selection tools as in the first method to decrease the number of features which will become the third set I use to train the classifier. Finally, I will allow Featuretools to automatically create a feature set that will become the fourth set I use to train the classifier."
   ]
  },
  {
   "cell_type": "markdown",
   "metadata": {},
   "source": [
    "## Preliminaries"
   ]
  },
  {
   "cell_type": "markdown",
   "metadata": {},
   "source": [
    "###  Import Libraries"
   ]
  },
  {
   "cell_type": "code",
   "execution_count": 1,
   "metadata": {},
   "outputs": [],
   "source": [
    "# data/math manipulation\n",
    "import pandas as pd\n",
    "pd.set_option('display.max_columns', None) # show all columns instead of truncated list when using head/tail function\n",
    "import numpy as np\n",
    "\n",
    "# plotting\n",
    "import matplotlib.pyplot as plt\n",
    "import seaborn as sns\n",
    "\n",
    "# garbage collection\n",
    "import gc\n",
    "\n",
    "# file paths/saving\n",
    "from pathlib import Path\n",
    "import pickle\n",
    "\n",
    "# feature selection tools\n",
    "from sklearn.feature_selection import chi2, f_classif, mutual_info_classif, SelectKBest\n",
    "from sklearn.ensemble import ExtraTreesClassifier\n",
    "from sklearn.preprocessing import StandardScaler\n",
    "from sklearn_pandas import DataFrameMapper\n",
    "\n",
    "import featuretools as ft"
   ]
  },
  {
   "cell_type": "markdown",
   "metadata": {},
   "source": [
    "### Import Data"
   ]
  },
  {
   "cell_type": "markdown",
   "metadata": {},
   "source": [
    "The datasets imported here are the cleaned versions saved after the EDA task."
   ]
  },
  {
   "cell_type": "code",
   "execution_count": 2,
   "metadata": {},
   "outputs": [],
   "source": [
    "data_folder = Path('C:/Users/Kathleen Lange/MSDS692_Practicum_I')\n",
    "train = pd.read_pickle(data_folder / 'training.pk')\n",
    "train_meta = pd.read_pickle(data_folder / 'training_meta.pk')"
   ]
  },
  {
   "cell_type": "code",
   "execution_count": 3,
   "metadata": {},
   "outputs": [
    {
     "data": {
      "text/html": [
       "<div>\n",
       "<style scoped>\n",
       "    .dataframe tbody tr th:only-of-type {\n",
       "        vertical-align: middle;\n",
       "    }\n",
       "\n",
       "    .dataframe tbody tr th {\n",
       "        vertical-align: top;\n",
       "    }\n",
       "\n",
       "    .dataframe thead th {\n",
       "        text-align: right;\n",
       "    }\n",
       "</style>\n",
       "<table border=\"1\" class=\"dataframe\">\n",
       "  <thead>\n",
       "    <tr style=\"text-align: right;\">\n",
       "      <th></th>\n",
       "      <th>object_id</th>\n",
       "      <th>mjd</th>\n",
       "      <th>passband</th>\n",
       "      <th>flux</th>\n",
       "      <th>flux_err</th>\n",
       "      <th>detected</th>\n",
       "    </tr>\n",
       "  </thead>\n",
       "  <tbody>\n",
       "    <tr>\n",
       "      <th>0</th>\n",
       "      <td>615</td>\n",
       "      <td>59750.4229</td>\n",
       "      <td>2</td>\n",
       "      <td>-544.810303</td>\n",
       "      <td>3.622952</td>\n",
       "      <td>1</td>\n",
       "    </tr>\n",
       "    <tr>\n",
       "      <th>1</th>\n",
       "      <td>615</td>\n",
       "      <td>59750.4306</td>\n",
       "      <td>1</td>\n",
       "      <td>-816.434326</td>\n",
       "      <td>5.553370</td>\n",
       "      <td>1</td>\n",
       "    </tr>\n",
       "    <tr>\n",
       "      <th>2</th>\n",
       "      <td>615</td>\n",
       "      <td>59750.4383</td>\n",
       "      <td>3</td>\n",
       "      <td>-471.385529</td>\n",
       "      <td>3.801213</td>\n",
       "      <td>1</td>\n",
       "    </tr>\n",
       "    <tr>\n",
       "      <th>3</th>\n",
       "      <td>615</td>\n",
       "      <td>59750.4450</td>\n",
       "      <td>4</td>\n",
       "      <td>-388.984985</td>\n",
       "      <td>11.395031</td>\n",
       "      <td>1</td>\n",
       "    </tr>\n",
       "    <tr>\n",
       "      <th>4</th>\n",
       "      <td>615</td>\n",
       "      <td>59752.4070</td>\n",
       "      <td>2</td>\n",
       "      <td>-681.858887</td>\n",
       "      <td>4.041204</td>\n",
       "      <td>1</td>\n",
       "    </tr>\n",
       "  </tbody>\n",
       "</table>\n",
       "</div>"
      ],
      "text/plain": [
       "   object_id         mjd  passband        flux   flux_err  detected\n",
       "0        615  59750.4229         2 -544.810303   3.622952         1\n",
       "1        615  59750.4306         1 -816.434326   5.553370         1\n",
       "2        615  59750.4383         3 -471.385529   3.801213         1\n",
       "3        615  59750.4450         4 -388.984985  11.395031         1\n",
       "4        615  59752.4070         2 -681.858887   4.041204         1"
      ]
     },
     "execution_count": 3,
     "metadata": {},
     "output_type": "execute_result"
    }
   ],
   "source": [
    "train.head()"
   ]
  },
  {
   "cell_type": "markdown",
   "metadata": {},
   "source": [
    "## Manual Feature Generation"
   ]
  },
  {
   "cell_type": "markdown",
   "metadata": {},
   "source": [
    "The following feature idea comes from [CPMP's and Grzegorz's discussion](https://www.kaggle.com/c/PLAsTiCC-2018/discussion/69696) on the competition website. For objects that are detected (equal to 1), take the difference between the maximum and minimum detection times. This feature helps to sort out the differences between light curves that indicate a single event such as supernovae and light curves that indicate periodic objects like a binary star system or cepheid."
   ]
  },
  {
   "cell_type": "code",
   "execution_count": 4,
   "metadata": {},
   "outputs": [],
   "source": [
    "det_grp = train[train['detected'] == 1] # subset of only the 'detected' observations\n",
    "det_grp_mjd = det_grp.groupby('object_id')['mjd']\n",
    "\n",
    "# Take the total time of the detected events (max mjd - min mjd). \n",
    "# Use this total time in place for all the values where detected = 1 in the original dataframe.\n",
    "\n",
    "train['mjd_diff'] = det_grp_mjd.transform('max') - det_grp_mjd.transform('min') \n",
    "# transform function add the aggregate value for the same number of records as the original data set"
   ]
  },
  {
   "cell_type": "markdown",
   "metadata": {},
   "source": [
    "In the EDA portion of this project, I decided to not do a strict time-series classification. Therefore, I would need to create aggregate features to feed to the machine learning algorithm instead. The following features are mostly borrowed from [Oliver's kernal](https://www.kaggle.com/ogrellier/plasticc-in-a-kernel-meta-and-data). I added a few more features based on the competition organizers [getting started kernal](https://www.kaggle.com/michaelapers/the-plasticc-astronomy-starter-kit)."
   ]
  },
  {
   "cell_type": "code",
   "execution_count": 5,
   "metadata": {},
   "outputs": [
    {
     "data": {
      "text/plain": [
       "83"
      ]
     },
     "execution_count": 5,
     "metadata": {},
     "output_type": "execute_result"
    }
   ],
   "source": [
    "gc.enable()\n",
    "\n",
    "train['flux_ratio_sq'] = np.power(train.flux / train.flux_err, 2.0) \n",
    "train['flux_weight'] = train.flux * train.flux_ratio_sq \n",
    "train['flux_weight_sum'] = train.groupby('object_id').flux_ratio_sq.transform('sum')\n",
    "train['flux_rsq_sum'] = train.groupby('object_id').flux_weight.transform('sum') \n",
    "train['flux_w_mean'] = train.flux_weight_sum / train.flux_rsq_sum \n",
    "train['flux_median'] = train.groupby('object_id').flux.transform('median')\n",
    "train['MAD'] = np.abs(train.flux - train.flux_median) / train.flux_w_mean\n",
    "train['flux_diff'] = np.abs(train.flux - train.flux_w_mean)\n",
    "\n",
    "aggs = {\n",
    "    'object_id': ['count'],\n",
    "    'flux': ['min', 'max', 'mean', 'median', 'std','skew'],\n",
    "    'flux_err': ['min', 'max', 'mean', 'median', 'std','skew'],\n",
    "    'detected': ['mean','std'],\n",
    "    'flux_ratio_sq': ['sum','skew'],\n",
    "    'flux_weight': ['sum','skew'],\n",
    "    'mjd_diff': ['mean'],\n",
    "    'MAD': ['median'],\n",
    "    'flux_diff': ['mean']\n",
    "}\n",
    "\n",
    "df_agg_train = train.groupby('object_id').agg(aggs)\n",
    "\n",
    "new_columns = [k + '_' + agg for k in aggs.keys() for agg in aggs[k]]\n",
    "df_agg_train.columns = new_columns\n",
    "\n",
    "#additional computed features\n",
    "df_agg_train['flux_weighted_mean'] = df_agg_train['flux_weight_sum'] / df_agg_train['flux_ratio_sq_sum']\n",
    "\n",
    "df_agg_train['flux_amp'] = df_agg_train['flux_max'] - df_agg_train['flux_min']\n",
    "df_agg_train['flux_norm_amp_mean'] = (df_agg_train['flux_max'] - df_agg_train['flux_min']) / df_agg_train['flux_mean']\n",
    "df_agg_train['flux_norm_amp_w_mean'] = (df_agg_train['flux_max'] - df_agg_train['flux_min']) / df_agg_train['flux_weighted_mean']\n",
    "df_agg_train['beyond_1std'] = sum(df_agg_train['flux_diff_mean'] > df_agg_train['flux_std']) / df_agg_train['object_id_count']\n",
    "\n",
    "del df_agg_train['object_id_count'], df_agg_train['flux_diff_mean']\n",
    "\n",
    "gc.collect()"
   ]
  },
  {
   "cell_type": "code",
   "execution_count": 6,
   "metadata": {},
   "outputs": [
    {
     "name": "stdout",
     "output_type": "stream",
     "text": [
      "<class 'pandas.core.frame.DataFrame'>\n",
      "Int64Index: 7848 entries, 615 to 130779836\n",
      "Data columns (total 25 columns):\n",
      "flux_min                7848 non-null float64\n",
      "flux_max                7848 non-null float64\n",
      "flux_mean               7848 non-null float64\n",
      "flux_median             7848 non-null float64\n",
      "flux_std                7848 non-null float64\n",
      "flux_skew               7848 non-null float64\n",
      "flux_err_min            7848 non-null float64\n",
      "flux_err_max            7848 non-null float64\n",
      "flux_err_mean           7848 non-null float64\n",
      "flux_err_median         7848 non-null float64\n",
      "flux_err_std            7848 non-null float64\n",
      "flux_err_skew           7848 non-null float64\n",
      "detected_mean           7848 non-null float64\n",
      "detected_std            7848 non-null float64\n",
      "flux_ratio_sq_sum       7848 non-null float64\n",
      "flux_ratio_sq_skew      7848 non-null float64\n",
      "flux_weight_sum         7848 non-null float64\n",
      "flux_weight_skew        7848 non-null float64\n",
      "mjd_diff_mean           7848 non-null float64\n",
      "MAD_median              7848 non-null float64\n",
      "flux_weighted_mean      7848 non-null float64\n",
      "flux_amp                7848 non-null float64\n",
      "flux_norm_amp_mean      7848 non-null float64\n",
      "flux_norm_amp_w_mean    7848 non-null float64\n",
      "beyond_1std             7848 non-null float64\n",
      "dtypes: float64(25)\n",
      "memory usage: 1.6 MB\n",
      "None\n"
     ]
    },
    {
     "data": {
      "text/html": [
       "<div>\n",
       "<style scoped>\n",
       "    .dataframe tbody tr th:only-of-type {\n",
       "        vertical-align: middle;\n",
       "    }\n",
       "\n",
       "    .dataframe tbody tr th {\n",
       "        vertical-align: top;\n",
       "    }\n",
       "\n",
       "    .dataframe thead th {\n",
       "        text-align: right;\n",
       "    }\n",
       "</style>\n",
       "<table border=\"1\" class=\"dataframe\">\n",
       "  <thead>\n",
       "    <tr style=\"text-align: right;\">\n",
       "      <th></th>\n",
       "      <th>flux_min</th>\n",
       "      <th>flux_max</th>\n",
       "      <th>flux_mean</th>\n",
       "      <th>flux_median</th>\n",
       "      <th>flux_std</th>\n",
       "      <th>flux_skew</th>\n",
       "      <th>flux_err_min</th>\n",
       "      <th>flux_err_max</th>\n",
       "      <th>flux_err_mean</th>\n",
       "      <th>flux_err_median</th>\n",
       "      <th>flux_err_std</th>\n",
       "      <th>flux_err_skew</th>\n",
       "      <th>detected_mean</th>\n",
       "      <th>detected_std</th>\n",
       "      <th>flux_ratio_sq_sum</th>\n",
       "      <th>flux_ratio_sq_skew</th>\n",
       "      <th>flux_weight_sum</th>\n",
       "      <th>flux_weight_skew</th>\n",
       "      <th>mjd_diff_mean</th>\n",
       "      <th>MAD_median</th>\n",
       "      <th>flux_weighted_mean</th>\n",
       "      <th>flux_amp</th>\n",
       "      <th>flux_norm_amp_mean</th>\n",
       "      <th>flux_norm_amp_w_mean</th>\n",
       "      <th>beyond_1std</th>\n",
       "    </tr>\n",
       "    <tr>\n",
       "      <th>object_id</th>\n",
       "      <th></th>\n",
       "      <th></th>\n",
       "      <th></th>\n",
       "      <th></th>\n",
       "      <th></th>\n",
       "      <th></th>\n",
       "      <th></th>\n",
       "      <th></th>\n",
       "      <th></th>\n",
       "      <th></th>\n",
       "      <th></th>\n",
       "      <th></th>\n",
       "      <th></th>\n",
       "      <th></th>\n",
       "      <th></th>\n",
       "      <th></th>\n",
       "      <th></th>\n",
       "      <th></th>\n",
       "      <th></th>\n",
       "      <th></th>\n",
       "      <th></th>\n",
       "      <th></th>\n",
       "      <th></th>\n",
       "      <th></th>\n",
       "      <th></th>\n",
       "    </tr>\n",
       "  </thead>\n",
       "  <tbody>\n",
       "    <tr>\n",
       "      <th>615</th>\n",
       "      <td>-1100.440063</td>\n",
       "      <td>660.626343</td>\n",
       "      <td>-123.096998</td>\n",
       "      <td>-89.477524</td>\n",
       "      <td>394.109851</td>\n",
       "      <td>-0.349540</td>\n",
       "      <td>2.130510</td>\n",
       "      <td>12.845472</td>\n",
       "      <td>4.482743</td>\n",
       "      <td>3.835269</td>\n",
       "      <td>1.744747</td>\n",
       "      <td>1.623740</td>\n",
       "      <td>0.946023</td>\n",
       "      <td>0.226295</td>\n",
       "      <td>2.929669e+06</td>\n",
       "      <td>0.812722</td>\n",
       "      <td>-9.601766e+08</td>\n",
       "      <td>-1.414322</td>\n",
       "      <td>873.7903</td>\n",
       "      <td>-96547.262044</td>\n",
       "      <td>-327.742307</td>\n",
       "      <td>1761.066406</td>\n",
       "      <td>-14.306331</td>\n",
       "      <td>-5.373326</td>\n",
       "      <td>1.031250</td>\n",
       "    </tr>\n",
       "    <tr>\n",
       "      <th>713</th>\n",
       "      <td>-14.735178</td>\n",
       "      <td>14.770886</td>\n",
       "      <td>-1.423351</td>\n",
       "      <td>-0.873033</td>\n",
       "      <td>6.471144</td>\n",
       "      <td>0.014989</td>\n",
       "      <td>0.639458</td>\n",
       "      <td>9.115748</td>\n",
       "      <td>2.359620</td>\n",
       "      <td>1.998217</td>\n",
       "      <td>1.509888</td>\n",
       "      <td>1.633246</td>\n",
       "      <td>0.171429</td>\n",
       "      <td>0.377423</td>\n",
       "      <td>5.886068e+03</td>\n",
       "      <td>3.439423</td>\n",
       "      <td>-2.875087e+04</td>\n",
       "      <td>-3.454554</td>\n",
       "      <td>846.8017</td>\n",
       "      <td>-26.005338</td>\n",
       "      <td>-4.884564</td>\n",
       "      <td>29.506064</td>\n",
       "      <td>-20.730002</td>\n",
       "      <td>-6.040676</td>\n",
       "      <td>1.037143</td>\n",
       "    </tr>\n",
       "    <tr>\n",
       "      <th>730</th>\n",
       "      <td>-19.159811</td>\n",
       "      <td>47.310059</td>\n",
       "      <td>2.267434</td>\n",
       "      <td>0.409172</td>\n",
       "      <td>8.022239</td>\n",
       "      <td>3.177854</td>\n",
       "      <td>0.695106</td>\n",
       "      <td>11.281384</td>\n",
       "      <td>2.471061</td>\n",
       "      <td>1.990851</td>\n",
       "      <td>1.721134</td>\n",
       "      <td>1.823726</td>\n",
       "      <td>0.069697</td>\n",
       "      <td>0.255022</td>\n",
       "      <td>4.124452e+03</td>\n",
       "      <td>5.480405</td>\n",
       "      <td>1.046502e+05</td>\n",
       "      <td>5.989138</td>\n",
       "      <td>78.7737</td>\n",
       "      <td>42.073919</td>\n",
       "      <td>25.373110</td>\n",
       "      <td>66.469870</td>\n",
       "      <td>29.315018</td>\n",
       "      <td>2.619697</td>\n",
       "      <td>1.100000</td>\n",
       "    </tr>\n",
       "    <tr>\n",
       "      <th>745</th>\n",
       "      <td>-15.494463</td>\n",
       "      <td>220.795212</td>\n",
       "      <td>8.909206</td>\n",
       "      <td>1.035895</td>\n",
       "      <td>27.558208</td>\n",
       "      <td>4.979826</td>\n",
       "      <td>0.567170</td>\n",
       "      <td>55.892746</td>\n",
       "      <td>2.555576</td>\n",
       "      <td>1.819875</td>\n",
       "      <td>3.537324</td>\n",
       "      <td>10.741655</td>\n",
       "      <td>0.173789</td>\n",
       "      <td>0.379469</td>\n",
       "      <td>9.416165e+04</td>\n",
       "      <td>9.611274</td>\n",
       "      <td>1.439125e+07</td>\n",
       "      <td>11.141069</td>\n",
       "      <td>123.6872</td>\n",
       "      <td>344.233035</td>\n",
       "      <td>152.835617</td>\n",
       "      <td>236.289675</td>\n",
       "      <td>26.521968</td>\n",
       "      <td>1.546038</td>\n",
       "      <td>1.034188</td>\n",
       "    </tr>\n",
       "    <tr>\n",
       "      <th>1124</th>\n",
       "      <td>-16.543753</td>\n",
       "      <td>143.600189</td>\n",
       "      <td>7.145702</td>\n",
       "      <td>1.141288</td>\n",
       "      <td>20.051722</td>\n",
       "      <td>4.406298</td>\n",
       "      <td>0.695277</td>\n",
       "      <td>11.383690</td>\n",
       "      <td>2.753004</td>\n",
       "      <td>2.214854</td>\n",
       "      <td>1.933837</td>\n",
       "      <td>1.794938</td>\n",
       "      <td>0.173295</td>\n",
       "      <td>0.379041</td>\n",
       "      <td>3.432418e+04</td>\n",
       "      <td>7.868462</td>\n",
       "      <td>3.015599e+06</td>\n",
       "      <td>7.908174</td>\n",
       "      <td>133.9113</td>\n",
       "      <td>172.633940</td>\n",
       "      <td>87.856390</td>\n",
       "      <td>160.143942</td>\n",
       "      <td>22.411225</td>\n",
       "      <td>1.822792</td>\n",
       "      <td>1.031250</td>\n",
       "    </tr>\n",
       "  </tbody>\n",
       "</table>\n",
       "</div>"
      ],
      "text/plain": [
       "              flux_min    flux_max   flux_mean  flux_median    flux_std  \\\n",
       "object_id                                                                 \n",
       "615       -1100.440063  660.626343 -123.096998   -89.477524  394.109851   \n",
       "713         -14.735178   14.770886   -1.423351    -0.873033    6.471144   \n",
       "730         -19.159811   47.310059    2.267434     0.409172    8.022239   \n",
       "745         -15.494463  220.795212    8.909206     1.035895   27.558208   \n",
       "1124        -16.543753  143.600189    7.145702     1.141288   20.051722   \n",
       "\n",
       "           flux_skew  flux_err_min  flux_err_max  flux_err_mean  \\\n",
       "object_id                                                         \n",
       "615        -0.349540      2.130510     12.845472       4.482743   \n",
       "713         0.014989      0.639458      9.115748       2.359620   \n",
       "730         3.177854      0.695106     11.281384       2.471061   \n",
       "745         4.979826      0.567170     55.892746       2.555576   \n",
       "1124        4.406298      0.695277     11.383690       2.753004   \n",
       "\n",
       "           flux_err_median  flux_err_std  flux_err_skew  detected_mean  \\\n",
       "object_id                                                                \n",
       "615               3.835269      1.744747       1.623740       0.946023   \n",
       "713               1.998217      1.509888       1.633246       0.171429   \n",
       "730               1.990851      1.721134       1.823726       0.069697   \n",
       "745               1.819875      3.537324      10.741655       0.173789   \n",
       "1124              2.214854      1.933837       1.794938       0.173295   \n",
       "\n",
       "           detected_std  flux_ratio_sq_sum  flux_ratio_sq_skew  \\\n",
       "object_id                                                        \n",
       "615            0.226295       2.929669e+06            0.812722   \n",
       "713            0.377423       5.886068e+03            3.439423   \n",
       "730            0.255022       4.124452e+03            5.480405   \n",
       "745            0.379469       9.416165e+04            9.611274   \n",
       "1124           0.379041       3.432418e+04            7.868462   \n",
       "\n",
       "           flux_weight_sum  flux_weight_skew  mjd_diff_mean    MAD_median  \\\n",
       "object_id                                                                   \n",
       "615          -9.601766e+08         -1.414322       873.7903 -96547.262044   \n",
       "713          -2.875087e+04         -3.454554       846.8017    -26.005338   \n",
       "730           1.046502e+05          5.989138        78.7737     42.073919   \n",
       "745           1.439125e+07         11.141069       123.6872    344.233035   \n",
       "1124          3.015599e+06          7.908174       133.9113    172.633940   \n",
       "\n",
       "           flux_weighted_mean     flux_amp  flux_norm_amp_mean  \\\n",
       "object_id                                                        \n",
       "615               -327.742307  1761.066406          -14.306331   \n",
       "713                 -4.884564    29.506064          -20.730002   \n",
       "730                 25.373110    66.469870           29.315018   \n",
       "745                152.835617   236.289675           26.521968   \n",
       "1124                87.856390   160.143942           22.411225   \n",
       "\n",
       "           flux_norm_amp_w_mean  beyond_1std  \n",
       "object_id                                     \n",
       "615                   -5.373326     1.031250  \n",
       "713                   -6.040676     1.037143  \n",
       "730                    2.619697     1.100000  \n",
       "745                    1.546038     1.034188  \n",
       "1124                   1.822792     1.031250  "
      ]
     },
     "execution_count": 6,
     "metadata": {},
     "output_type": "execute_result"
    }
   ],
   "source": [
    "print(df_agg_train.info())\n",
    "df_agg_train.head()"
   ]
  },
  {
   "cell_type": "raw",
   "metadata": {},
   "source": [
    "To limit the data dimensionality for the time being, I will ignore grouping by the passband features. In the future, to possibly help improve the accuracy of the classifier I can add in the groupings by passband.\n",
    "\n",
    "I also want to separate the features by passband to see if there could be a difference in the classifiation based on the different filter being used. I will keep the features a little more simple for these to begin with to see if splitting them out from the overall aggregate data has any difference on the algorithm. Otherwise, the number of features might start to become too large."
   ]
  },
  {
   "cell_type": "raw",
   "metadata": {},
   "source": [
    "gc.enable()\n",
    "\n",
    "aggs = {\n",
    "    'flux': ['min', 'max', 'mean', 'median', 'std','skew'],\n",
    "    'flux_err': ['min', 'max', 'mean', 'median', 'std','skew'],\n",
    "    'detected': ['mean','std'],\n",
    "    'flux_ratio_sq':['sum','skew'],\n",
    "    'flux_weight':['sum','skew'],\n",
    "}\n",
    "\n",
    "df_agg_train_pass = train.groupby(['object_id', 'passband']).agg(aggs)\n",
    "\n",
    "new_columns = [k + '_' + agg for k in aggs.keys() for agg in aggs[k]]\n",
    "df_agg_train_pass.columns = new_columns\n",
    "\n",
    "df_agg_train_pass['flux_weighted_mean'] = df_agg_train_pass['flux_weight_sum'] / df_agg_train_pass['flux_ratio_sq_sum']\n",
    "df_agg_train_pass['flux_amp'] = df_agg_train_pass['flux_max'] - df_agg_train_pass['flux_min']\n",
    "df_agg_train_pass['flux_norm_amp_mean'] = (df_agg_train_pass['flux_max'] - df_agg_train_pass['flux_min']) / df_agg_train_pass['flux_mean']\n",
    "df_agg_train_pass['flux_norm_amp_w_mean'] = (df_agg_train_pass['flux_max'] - df_agg_train_pass['flux_min']) / df_agg_train_pass['flux_weighted_mean']\n",
    "\n",
    "#del train\n",
    "\n",
    "gc.collect()"
   ]
  },
  {
   "cell_type": "raw",
   "metadata": {},
   "source": [
    "# unstack/flatten the multi-indicies \n",
    "df_agg_train_pass = df_agg_train_pass.unstack(level=[1])\n",
    "df_agg_train_pass.columns = df_agg_train_pass.columns.to_flat_index()\n",
    "df_agg_train_pass.columns = ['_'.join(map(str, col)) for col in df_agg_train_pass.columns]"
   ]
  },
  {
   "cell_type": "raw",
   "metadata": {},
   "source": [
    "print(df_agg_train_pass.info())\n",
    "df_agg_train_pass.head()"
   ]
  },
  {
   "cell_type": "code",
   "execution_count": 7,
   "metadata": {},
   "outputs": [],
   "source": [
    "# merge all features into a single dataframe\n",
    "full_df = train_meta.merge(df_agg_train, on='object_id')\n",
    "# full_df = full_df.merge(df_agg_train_pass, on='object_id')"
   ]
  },
  {
   "cell_type": "markdown",
   "metadata": {},
   "source": [
    "Also, I had a hunch that some of the flux values should be normalized using the redshift value which was bolstered by [Silogram's and Mike's discussion](https://www.kaggle.com/c/PLAsTiCC-2018/discussion/75059) (Mike's note #4). Therefore, I will create new weighted columns using the flux features and the redshifted. For the redshift value I choose to use the hostgal_photoz column because as the challenge creators mention in the data introduction, each object in the test set will have a photoz value but few will have a specz value (although this one is more precise measurement). "
   ]
  },
  {
   "cell_type": "code",
   "execution_count": 8,
   "metadata": {},
   "outputs": [],
   "source": [
    "columns_to_divide = ['flux_min', 'flux_max', \n",
    "                     'flux_mean', 'flux_median', \n",
    "                     'flux_ratio_sq_sum', 'flux_weighted_mean', \n",
    "                     'flux_amp']\n",
    "new_column_names = ['flux_min_wz', 'flux_max_wz', \n",
    "                     'flux_mean_wz', 'flux_median_wz', \n",
    "                     'flux_ratio_sq_sum_wz', 'flux_weighted_mean_wz', \n",
    "                     'flux_amp_wz']\n",
    "\n",
    "# create new dataframe with z weighted flux features\n",
    "# add 1 to avoid division by zero for galactic objects\n",
    "new_df = full_df[columns_to_divide].div(full_df['hostgal_photoz'] + 1, axis=0) \n",
    "\n",
    "# create new column names for features\n",
    "new_df.columns = new_column_names           \n",
    "\n",
    "# add newly created features from z weighted dataframe to original features dataframe\n",
    "# merge two dataframes on the index of each\n",
    "full_df = full_df.merge(new_df, left_index=True, right_index=True)"
   ]
  },
  {
   "cell_type": "markdown",
   "metadata": {},
   "source": [
    "### Review and Clean Data"
   ]
  },
  {
   "cell_type": "code",
   "execution_count": 9,
   "metadata": {},
   "outputs": [
    {
     "name": "stdout",
     "output_type": "stream",
     "text": [
      "<class 'pandas.core.frame.DataFrame'>\n",
      "Int64Index: 7848 entries, 0 to 7847\n",
      "Data columns (total 41 columns):\n",
      "object_id                7848 non-null int64\n",
      "ddf                      7848 non-null int64\n",
      "hostgal_specz            7848 non-null float64\n",
      "hostgal_photoz           7848 non-null float64\n",
      "hostgal_photoz_err       7848 non-null float64\n",
      "distmod                  7848 non-null float64\n",
      "mwebv                    7848 non-null float64\n",
      "target                   7848 non-null int64\n",
      "origin                   7848 non-null category\n",
      "flux_min                 7848 non-null float64\n",
      "flux_max                 7848 non-null float64\n",
      "flux_mean                7848 non-null float64\n",
      "flux_median              7848 non-null float64\n",
      "flux_std                 7848 non-null float64\n",
      "flux_skew                7848 non-null float64\n",
      "flux_err_min             7848 non-null float64\n",
      "flux_err_max             7848 non-null float64\n",
      "flux_err_mean            7848 non-null float64\n",
      "flux_err_median          7848 non-null float64\n",
      "flux_err_std             7848 non-null float64\n",
      "flux_err_skew            7848 non-null float64\n",
      "detected_mean            7848 non-null float64\n",
      "detected_std             7848 non-null float64\n",
      "flux_ratio_sq_sum        7848 non-null float64\n",
      "flux_ratio_sq_skew       7848 non-null float64\n",
      "flux_weight_sum          7848 non-null float64\n",
      "flux_weight_skew         7848 non-null float64\n",
      "mjd_diff_mean            7848 non-null float64\n",
      "MAD_median               7848 non-null float64\n",
      "flux_weighted_mean       7848 non-null float64\n",
      "flux_amp                 7848 non-null float64\n",
      "flux_norm_amp_mean       7848 non-null float64\n",
      "flux_norm_amp_w_mean     7848 non-null float64\n",
      "beyond_1std              7848 non-null float64\n",
      "flux_min_wz              7848 non-null float64\n",
      "flux_max_wz              7848 non-null float64\n",
      "flux_mean_wz             7848 non-null float64\n",
      "flux_median_wz           7848 non-null float64\n",
      "flux_ratio_sq_sum_wz     7848 non-null float64\n",
      "flux_weighted_mean_wz    7848 non-null float64\n",
      "flux_amp_wz              7848 non-null float64\n",
      "dtypes: category(1), float64(37), int64(3)\n",
      "memory usage: 2.8 MB\n",
      "None\n"
     ]
    },
    {
     "data": {
      "text/html": [
       "<div>\n",
       "<style scoped>\n",
       "    .dataframe tbody tr th:only-of-type {\n",
       "        vertical-align: middle;\n",
       "    }\n",
       "\n",
       "    .dataframe tbody tr th {\n",
       "        vertical-align: top;\n",
       "    }\n",
       "\n",
       "    .dataframe thead th {\n",
       "        text-align: right;\n",
       "    }\n",
       "</style>\n",
       "<table border=\"1\" class=\"dataframe\">\n",
       "  <thead>\n",
       "    <tr style=\"text-align: right;\">\n",
       "      <th></th>\n",
       "      <th>object_id</th>\n",
       "      <th>ddf</th>\n",
       "      <th>hostgal_specz</th>\n",
       "      <th>hostgal_photoz</th>\n",
       "      <th>hostgal_photoz_err</th>\n",
       "      <th>distmod</th>\n",
       "      <th>mwebv</th>\n",
       "      <th>target</th>\n",
       "      <th>origin</th>\n",
       "      <th>flux_min</th>\n",
       "      <th>flux_max</th>\n",
       "      <th>flux_mean</th>\n",
       "      <th>flux_median</th>\n",
       "      <th>flux_std</th>\n",
       "      <th>flux_skew</th>\n",
       "      <th>flux_err_min</th>\n",
       "      <th>flux_err_max</th>\n",
       "      <th>flux_err_mean</th>\n",
       "      <th>flux_err_median</th>\n",
       "      <th>flux_err_std</th>\n",
       "      <th>flux_err_skew</th>\n",
       "      <th>detected_mean</th>\n",
       "      <th>detected_std</th>\n",
       "      <th>flux_ratio_sq_sum</th>\n",
       "      <th>flux_ratio_sq_skew</th>\n",
       "      <th>flux_weight_sum</th>\n",
       "      <th>flux_weight_skew</th>\n",
       "      <th>mjd_diff_mean</th>\n",
       "      <th>MAD_median</th>\n",
       "      <th>flux_weighted_mean</th>\n",
       "      <th>flux_amp</th>\n",
       "      <th>flux_norm_amp_mean</th>\n",
       "      <th>flux_norm_amp_w_mean</th>\n",
       "      <th>beyond_1std</th>\n",
       "      <th>flux_min_wz</th>\n",
       "      <th>flux_max_wz</th>\n",
       "      <th>flux_mean_wz</th>\n",
       "      <th>flux_median_wz</th>\n",
       "      <th>flux_ratio_sq_sum_wz</th>\n",
       "      <th>flux_weighted_mean_wz</th>\n",
       "      <th>flux_amp_wz</th>\n",
       "    </tr>\n",
       "  </thead>\n",
       "  <tbody>\n",
       "    <tr>\n",
       "      <th>0</th>\n",
       "      <td>615</td>\n",
       "      <td>1</td>\n",
       "      <td>0.0000</td>\n",
       "      <td>0.0000</td>\n",
       "      <td>0.0000</td>\n",
       "      <td>0.0000</td>\n",
       "      <td>0.017</td>\n",
       "      <td>92</td>\n",
       "      <td>galactic</td>\n",
       "      <td>-1100.440063</td>\n",
       "      <td>660.626343</td>\n",
       "      <td>-123.096998</td>\n",
       "      <td>-89.477524</td>\n",
       "      <td>394.109851</td>\n",
       "      <td>-0.349540</td>\n",
       "      <td>2.130510</td>\n",
       "      <td>12.845472</td>\n",
       "      <td>4.482743</td>\n",
       "      <td>3.835269</td>\n",
       "      <td>1.744747</td>\n",
       "      <td>1.623740</td>\n",
       "      <td>0.946023</td>\n",
       "      <td>0.226295</td>\n",
       "      <td>2.929669e+06</td>\n",
       "      <td>0.812722</td>\n",
       "      <td>-9.601766e+08</td>\n",
       "      <td>-1.414322</td>\n",
       "      <td>873.7903</td>\n",
       "      <td>-96547.262044</td>\n",
       "      <td>-327.742307</td>\n",
       "      <td>1761.066406</td>\n",
       "      <td>-14.306331</td>\n",
       "      <td>-5.373326</td>\n",
       "      <td>1.031250</td>\n",
       "      <td>-1100.440063</td>\n",
       "      <td>660.626343</td>\n",
       "      <td>-123.096998</td>\n",
       "      <td>-89.477524</td>\n",
       "      <td>2.929669e+06</td>\n",
       "      <td>-327.742307</td>\n",
       "      <td>1761.066406</td>\n",
       "    </tr>\n",
       "    <tr>\n",
       "      <th>1</th>\n",
       "      <td>713</td>\n",
       "      <td>1</td>\n",
       "      <td>1.8181</td>\n",
       "      <td>1.6267</td>\n",
       "      <td>0.2552</td>\n",
       "      <td>45.4063</td>\n",
       "      <td>0.007</td>\n",
       "      <td>88</td>\n",
       "      <td>extragalactic</td>\n",
       "      <td>-14.735178</td>\n",
       "      <td>14.770886</td>\n",
       "      <td>-1.423351</td>\n",
       "      <td>-0.873033</td>\n",
       "      <td>6.471144</td>\n",
       "      <td>0.014989</td>\n",
       "      <td>0.639458</td>\n",
       "      <td>9.115748</td>\n",
       "      <td>2.359620</td>\n",
       "      <td>1.998217</td>\n",
       "      <td>1.509888</td>\n",
       "      <td>1.633246</td>\n",
       "      <td>0.171429</td>\n",
       "      <td>0.377423</td>\n",
       "      <td>5.886068e+03</td>\n",
       "      <td>3.439423</td>\n",
       "      <td>-2.875087e+04</td>\n",
       "      <td>-3.454554</td>\n",
       "      <td>846.8017</td>\n",
       "      <td>-26.005338</td>\n",
       "      <td>-4.884564</td>\n",
       "      <td>29.506064</td>\n",
       "      <td>-20.730002</td>\n",
       "      <td>-6.040676</td>\n",
       "      <td>1.037143</td>\n",
       "      <td>-5.609768</td>\n",
       "      <td>5.623362</td>\n",
       "      <td>-0.541878</td>\n",
       "      <td>-0.332369</td>\n",
       "      <td>2.240860e+03</td>\n",
       "      <td>-1.859582</td>\n",
       "      <td>11.233131</td>\n",
       "    </tr>\n",
       "    <tr>\n",
       "      <th>2</th>\n",
       "      <td>730</td>\n",
       "      <td>1</td>\n",
       "      <td>0.2320</td>\n",
       "      <td>0.2262</td>\n",
       "      <td>0.0157</td>\n",
       "      <td>40.2561</td>\n",
       "      <td>0.021</td>\n",
       "      <td>42</td>\n",
       "      <td>extragalactic</td>\n",
       "      <td>-19.159811</td>\n",
       "      <td>47.310059</td>\n",
       "      <td>2.267434</td>\n",
       "      <td>0.409172</td>\n",
       "      <td>8.022239</td>\n",
       "      <td>3.177854</td>\n",
       "      <td>0.695106</td>\n",
       "      <td>11.281384</td>\n",
       "      <td>2.471061</td>\n",
       "      <td>1.990851</td>\n",
       "      <td>1.721134</td>\n",
       "      <td>1.823726</td>\n",
       "      <td>0.069697</td>\n",
       "      <td>0.255022</td>\n",
       "      <td>4.124452e+03</td>\n",
       "      <td>5.480405</td>\n",
       "      <td>1.046502e+05</td>\n",
       "      <td>5.989138</td>\n",
       "      <td>78.7737</td>\n",
       "      <td>42.073919</td>\n",
       "      <td>25.373110</td>\n",
       "      <td>66.469870</td>\n",
       "      <td>29.315018</td>\n",
       "      <td>2.619697</td>\n",
       "      <td>1.100000</td>\n",
       "      <td>-15.625356</td>\n",
       "      <td>38.582661</td>\n",
       "      <td>1.849155</td>\n",
       "      <td>0.333691</td>\n",
       "      <td>3.363604e+03</td>\n",
       "      <td>20.692473</td>\n",
       "      <td>54.208017</td>\n",
       "    </tr>\n",
       "    <tr>\n",
       "      <th>3</th>\n",
       "      <td>745</td>\n",
       "      <td>1</td>\n",
       "      <td>0.3037</td>\n",
       "      <td>0.2813</td>\n",
       "      <td>1.1523</td>\n",
       "      <td>40.7951</td>\n",
       "      <td>0.007</td>\n",
       "      <td>90</td>\n",
       "      <td>extragalactic</td>\n",
       "      <td>-15.494463</td>\n",
       "      <td>220.795212</td>\n",
       "      <td>8.909206</td>\n",
       "      <td>1.035895</td>\n",
       "      <td>27.558208</td>\n",
       "      <td>4.979826</td>\n",
       "      <td>0.567170</td>\n",
       "      <td>55.892746</td>\n",
       "      <td>2.555576</td>\n",
       "      <td>1.819875</td>\n",
       "      <td>3.537324</td>\n",
       "      <td>10.741655</td>\n",
       "      <td>0.173789</td>\n",
       "      <td>0.379469</td>\n",
       "      <td>9.416165e+04</td>\n",
       "      <td>9.611274</td>\n",
       "      <td>1.439125e+07</td>\n",
       "      <td>11.141069</td>\n",
       "      <td>123.6872</td>\n",
       "      <td>344.233035</td>\n",
       "      <td>152.835617</td>\n",
       "      <td>236.289675</td>\n",
       "      <td>26.521968</td>\n",
       "      <td>1.546038</td>\n",
       "      <td>1.034188</td>\n",
       "      <td>-12.092768</td>\n",
       "      <td>172.321246</td>\n",
       "      <td>6.953255</td>\n",
       "      <td>0.808472</td>\n",
       "      <td>7.348915e+04</td>\n",
       "      <td>119.281680</td>\n",
       "      <td>184.414013</td>\n",
       "    </tr>\n",
       "    <tr>\n",
       "      <th>4</th>\n",
       "      <td>1124</td>\n",
       "      <td>1</td>\n",
       "      <td>0.1934</td>\n",
       "      <td>0.2415</td>\n",
       "      <td>0.0176</td>\n",
       "      <td>40.4166</td>\n",
       "      <td>0.024</td>\n",
       "      <td>90</td>\n",
       "      <td>extragalactic</td>\n",
       "      <td>-16.543753</td>\n",
       "      <td>143.600189</td>\n",
       "      <td>7.145702</td>\n",
       "      <td>1.141288</td>\n",
       "      <td>20.051722</td>\n",
       "      <td>4.406298</td>\n",
       "      <td>0.695277</td>\n",
       "      <td>11.383690</td>\n",
       "      <td>2.753004</td>\n",
       "      <td>2.214854</td>\n",
       "      <td>1.933837</td>\n",
       "      <td>1.794938</td>\n",
       "      <td>0.173295</td>\n",
       "      <td>0.379041</td>\n",
       "      <td>3.432418e+04</td>\n",
       "      <td>7.868462</td>\n",
       "      <td>3.015599e+06</td>\n",
       "      <td>7.908174</td>\n",
       "      <td>133.9113</td>\n",
       "      <td>172.633940</td>\n",
       "      <td>87.856390</td>\n",
       "      <td>160.143942</td>\n",
       "      <td>22.411225</td>\n",
       "      <td>1.822792</td>\n",
       "      <td>1.031250</td>\n",
       "      <td>-13.325617</td>\n",
       "      <td>115.666685</td>\n",
       "      <td>5.755700</td>\n",
       "      <td>0.919282</td>\n",
       "      <td>2.764735e+04</td>\n",
       "      <td>70.766323</td>\n",
       "      <td>128.992301</td>\n",
       "    </tr>\n",
       "  </tbody>\n",
       "</table>\n",
       "</div>"
      ],
      "text/plain": [
       "   object_id  ddf  hostgal_specz  hostgal_photoz  hostgal_photoz_err  distmod  \\\n",
       "0        615    1         0.0000          0.0000              0.0000   0.0000   \n",
       "1        713    1         1.8181          1.6267              0.2552  45.4063   \n",
       "2        730    1         0.2320          0.2262              0.0157  40.2561   \n",
       "3        745    1         0.3037          0.2813              1.1523  40.7951   \n",
       "4       1124    1         0.1934          0.2415              0.0176  40.4166   \n",
       "\n",
       "   mwebv  target         origin     flux_min    flux_max   flux_mean  \\\n",
       "0  0.017      92       galactic -1100.440063  660.626343 -123.096998   \n",
       "1  0.007      88  extragalactic   -14.735178   14.770886   -1.423351   \n",
       "2  0.021      42  extragalactic   -19.159811   47.310059    2.267434   \n",
       "3  0.007      90  extragalactic   -15.494463  220.795212    8.909206   \n",
       "4  0.024      90  extragalactic   -16.543753  143.600189    7.145702   \n",
       "\n",
       "   flux_median    flux_std  flux_skew  flux_err_min  flux_err_max  \\\n",
       "0   -89.477524  394.109851  -0.349540      2.130510     12.845472   \n",
       "1    -0.873033    6.471144   0.014989      0.639458      9.115748   \n",
       "2     0.409172    8.022239   3.177854      0.695106     11.281384   \n",
       "3     1.035895   27.558208   4.979826      0.567170     55.892746   \n",
       "4     1.141288   20.051722   4.406298      0.695277     11.383690   \n",
       "\n",
       "   flux_err_mean  flux_err_median  flux_err_std  flux_err_skew  detected_mean  \\\n",
       "0       4.482743         3.835269      1.744747       1.623740       0.946023   \n",
       "1       2.359620         1.998217      1.509888       1.633246       0.171429   \n",
       "2       2.471061         1.990851      1.721134       1.823726       0.069697   \n",
       "3       2.555576         1.819875      3.537324      10.741655       0.173789   \n",
       "4       2.753004         2.214854      1.933837       1.794938       0.173295   \n",
       "\n",
       "   detected_std  flux_ratio_sq_sum  flux_ratio_sq_skew  flux_weight_sum  \\\n",
       "0      0.226295       2.929669e+06            0.812722    -9.601766e+08   \n",
       "1      0.377423       5.886068e+03            3.439423    -2.875087e+04   \n",
       "2      0.255022       4.124452e+03            5.480405     1.046502e+05   \n",
       "3      0.379469       9.416165e+04            9.611274     1.439125e+07   \n",
       "4      0.379041       3.432418e+04            7.868462     3.015599e+06   \n",
       "\n",
       "   flux_weight_skew  mjd_diff_mean    MAD_median  flux_weighted_mean  \\\n",
       "0         -1.414322       873.7903 -96547.262044         -327.742307   \n",
       "1         -3.454554       846.8017    -26.005338           -4.884564   \n",
       "2          5.989138        78.7737     42.073919           25.373110   \n",
       "3         11.141069       123.6872    344.233035          152.835617   \n",
       "4          7.908174       133.9113    172.633940           87.856390   \n",
       "\n",
       "      flux_amp  flux_norm_amp_mean  flux_norm_amp_w_mean  beyond_1std  \\\n",
       "0  1761.066406          -14.306331             -5.373326     1.031250   \n",
       "1    29.506064          -20.730002             -6.040676     1.037143   \n",
       "2    66.469870           29.315018              2.619697     1.100000   \n",
       "3   236.289675           26.521968              1.546038     1.034188   \n",
       "4   160.143942           22.411225              1.822792     1.031250   \n",
       "\n",
       "   flux_min_wz  flux_max_wz  flux_mean_wz  flux_median_wz  \\\n",
       "0 -1100.440063   660.626343   -123.096998      -89.477524   \n",
       "1    -5.609768     5.623362     -0.541878       -0.332369   \n",
       "2   -15.625356    38.582661      1.849155        0.333691   \n",
       "3   -12.092768   172.321246      6.953255        0.808472   \n",
       "4   -13.325617   115.666685      5.755700        0.919282   \n",
       "\n",
       "   flux_ratio_sq_sum_wz  flux_weighted_mean_wz  flux_amp_wz  \n",
       "0          2.929669e+06            -327.742307  1761.066406  \n",
       "1          2.240860e+03              -1.859582    11.233131  \n",
       "2          3.363604e+03              20.692473    54.208017  \n",
       "3          7.348915e+04             119.281680   184.414013  \n",
       "4          2.764735e+04              70.766323   128.992301  "
      ]
     },
     "execution_count": 9,
     "metadata": {},
     "output_type": "execute_result"
    }
   ],
   "source": [
    "print(full_df.info())\n",
    "full_df.head()"
   ]
  },
  {
   "cell_type": "markdown",
   "metadata": {},
   "source": [
    "There are a total of 43 columns, resulting in 41 unique features, plus an object_id variable that can act like an index value and a target variable. After all of the aggregations, I need to check to see if any NaN values were created."
   ]
  },
  {
   "cell_type": "code",
   "execution_count": 10,
   "metadata": {},
   "outputs": [
    {
     "data": {
      "text/plain": [
       "Series([], dtype: bool)"
      ]
     },
     "execution_count": 10,
     "metadata": {},
     "output_type": "execute_result"
    }
   ],
   "source": [
    "# check for NaN values\n",
    "full_df.isna().any()[lambda x: x]"
   ]
  },
  {
   "cell_type": "markdown",
   "metadata": {},
   "source": [
    "No NaNs were created."
   ]
  },
  {
   "cell_type": "markdown",
   "metadata": {},
   "source": [
    "The final step is to save the dataframe into a file that can be read into the machine learning algorithm for training. Machine learning algorithms usually cannot take a categorical value and only can be fed numerical values. Therefore, I will convert the one categorical value, origin, back to a numerical value. Next, I will convert the columns into the minimum space variable type that each can be to help make the training of the classifier be faster and take less memory. All of the float columns can be converted from float64 objects to float32 objects. The 'target', 'ddf', 'origin' columns can all be converted to int8 values. The 'object_id' variable will be set as the index and converted to an int32 object. "
   ]
  },
  {
   "cell_type": "code",
   "execution_count": 11,
   "metadata": {},
   "outputs": [],
   "source": [
    "def convert_variables(df):\n",
    "    for col in df.columns:\n",
    "        col_type = df[col].dtype\n",
    "        if (col_type == 'float64'):\n",
    "            df[col] = df[col].astype('float32')\n",
    "        if (col_type == 'int64'):\n",
    "            df[col] = df[col].astype('int8')\n",
    "    return df"
   ]
  },
  {
   "cell_type": "code",
   "execution_count": 12,
   "metadata": {},
   "outputs": [
    {
     "name": "stdout",
     "output_type": "stream",
     "text": [
      "memory usage: 2.77 MB\n"
     ]
    }
   ],
   "source": [
    "print('memory usage: {:.2f} MB'.format(full_df.memory_usage().sum() / 2**20))"
   ]
  },
  {
   "cell_type": "code",
   "execution_count": 13,
   "metadata": {},
   "outputs": [],
   "source": [
    "full_df['origin'] = full_df.origin.cat.codes\n",
    "full_df['object_id'] = full_df['object_id'].astype('int32')\n",
    "full_df = full_df.set_index('object_id')\n",
    "full_df = convert_variables(full_df)"
   ]
  },
  {
   "cell_type": "code",
   "execution_count": 14,
   "metadata": {},
   "outputs": [
    {
     "name": "stdout",
     "output_type": "stream",
     "text": [
      "memory usage: 1.19 MB\n"
     ]
    }
   ],
   "source": [
    "print('memory usage: {:.2f} MB'.format(full_df.memory_usage().sum() / 2**20))"
   ]
  },
  {
   "cell_type": "markdown",
   "metadata": {},
   "source": [
    "The memory usage after the conversion of the columns decreased by 1.58 MBs."
   ]
  },
  {
   "cell_type": "markdown",
   "metadata": {},
   "source": [
    "Finally, I will standardize the features using sklearn's StandardScalar() function. This will scale all of the feature columns to unit variance. Standardized features allow the neural network to be more efficient and help prevent values from growing out of control or being completely eliminated in the different layers."
   ]
  },
  {
   "cell_type": "code",
   "execution_count": 15,
   "metadata": {},
   "outputs": [
    {
     "data": {
      "text/plain": [
       "Index(['ddf', 'hostgal_specz', 'hostgal_photoz', 'hostgal_photoz_err',\n",
       "       'distmod', 'mwebv', 'target', 'origin', 'flux_min', 'flux_max',\n",
       "       'flux_mean', 'flux_median', 'flux_std', 'flux_skew', 'flux_err_min',\n",
       "       'flux_err_max', 'flux_err_mean', 'flux_err_median', 'flux_err_std',\n",
       "       'flux_err_skew', 'detected_mean', 'detected_std', 'flux_ratio_sq_sum',\n",
       "       'flux_ratio_sq_skew', 'flux_weight_sum', 'flux_weight_skew',\n",
       "       'mjd_diff_mean', 'MAD_median', 'flux_weighted_mean', 'flux_amp',\n",
       "       'flux_norm_amp_mean', 'flux_norm_amp_w_mean', 'beyond_1std',\n",
       "       'flux_min_wz', 'flux_max_wz', 'flux_mean_wz', 'flux_median_wz',\n",
       "       'flux_ratio_sq_sum_wz', 'flux_weighted_mean_wz', 'flux_amp_wz'],\n",
       "      dtype='object')"
      ]
     },
     "execution_count": 15,
     "metadata": {},
     "output_type": "execute_result"
    }
   ],
   "source": [
    "full_df.columns #get all column names so I can subtract those that do not need to be scaled (i.e. bools)"
   ]
  },
  {
   "cell_type": "code",
   "execution_count": 16,
   "metadata": {},
   "outputs": [],
   "source": [
    "full_df_scaled = full_df.copy() #create copy of dataframe\n",
    "scaler = StandardScaler()\n",
    "col_names = ['hostgal_specz', 'hostgal_photoz',\n",
    "             'hostgal_photoz_err', 'distmod', 'mwebv',\n",
    "             'flux_min', 'flux_max', 'flux_mean', 'flux_median', 'flux_std',\n",
    "             'flux_skew', 'flux_err_min', 'flux_err_max', 'flux_err_mean',\n",
    "             'flux_err_median', 'flux_err_std', 'flux_err_skew', 'detected_mean',\n",
    "             'detected_std', 'flux_ratio_sq_sum', 'flux_ratio_sq_skew',\n",
    "             'flux_weight_sum', 'flux_weight_skew', 'mjd_diff_mean', 'MAD_median',\n",
    "             'flux_weighted_mean', 'flux_amp', 'flux_norm_amp_mean',\n",
    "             'flux_norm_amp_w_mean', 'beyond_1std', 'flux_min_wz', 'flux_max_wz',\n",
    "             'flux_mean_wz', 'flux_median_wz', 'flux_ratio_sq_sum_wz',\n",
    "             'flux_weighted_mean_wz', 'flux_amp_wz'] # only these columns need to be scaled\n",
    "\n",
    "features = full_df_scaled[col_names] # create subset dataframe with only columns needed to be scaled\n",
    "features = scaler.fit_transform(features.values) # scale features\n",
    "\n",
    "full_df_scaled[col_names] = features # add scaled features back to dataframe"
   ]
  },
  {
   "cell_type": "markdown",
   "metadata": {},
   "source": [
    "### Save All Manual Features Dataframe"
   ]
  },
  {
   "cell_type": "code",
   "execution_count": 17,
   "metadata": {},
   "outputs": [],
   "source": [
    "# save dataframe for training set 1\n",
    "with open(data_folder / 'all_manual_features.pk', 'wb') as f:\n",
    "    pickle.dump(full_df, f)\n",
    "    \n",
    "with open(data_folder / 'all_manual_features_scaled.pk', 'wb') as f:\n",
    "    pickle.dump(full_df_scaled, f)"
   ]
  },
  {
   "cell_type": "markdown",
   "metadata": {},
   "source": [
    "### Dimensionality Reduction"
   ]
  },
  {
   "cell_type": "markdown",
   "metadata": {},
   "source": [
    "In feature engineering, often times there are many features that are created, but having too many features fed into a machine learning algorithm can be problematic with regards to amount of memory required, the accuracy of the model and the time it takes to get a result. Therefore, there are some methods of reducing the dimensionality of the features, especially ones that may not contribute as much or are highly correlated. Sample code for feature reduction ideas such univariate selection, feature importance and correlation matrices follow from this blog post: https://towardsdatascience.com/feature-selection-techniques-in-machine-learning-with-python-f24e7da3f36e/.\n",
    "\n",
    "Further feature reduction techniques such as using a variance threshold or principal component analysis can also be used but will not be currently explored, but may prove useful in imporoving the accuracy of the model at a later time."
   ]
  },
  {
   "cell_type": "markdown",
   "metadata": {},
   "source": [
    "#### Univariate Selection"
   ]
  },
  {
   "cell_type": "markdown",
   "metadata": {},
   "source": [
    "I will use three statistical tests to understand which features are the most important to use: Chi^2, Mutual Information, and ANOVA F-score. First, I need to pull out the target variable as opposed to the proposed features. Then I create a function that takes the features, the target variable, the statistical test and the number of top features desired as inputs. The function then returns the list of top n important features."
   ]
  },
  {
   "cell_type": "code",
   "execution_count": 18,
   "metadata": {},
   "outputs": [],
   "source": [
    "target_vals = full_df.target # pull out the target values from the dataframe\n",
    "full_df.drop(columns=['target'], inplace=True) # remove the target variable from the proposed feature set\n",
    "\n",
    "full_df.drop(columns=['hostgal_photoz', 'hostgal_photoz_err', 'hostgal_specz'], inplace=True) \n",
    "# redshift already accounted for in distmod calculation and in the redshift weighted flux aggregations\n",
    "\n",
    "full_df.drop(columns=columns_to_divide, inplace=True)\n",
    "# flux and flux columns weighted by the redshift are highly correlated so just use the weighted columns"
   ]
  },
  {
   "cell_type": "code",
   "execution_count": 19,
   "metadata": {},
   "outputs": [],
   "source": [
    "# following code adapted from here: \n",
    "# https://towardsdatascience.com/feature-selection-techniques-in-machine-learning-with-python-f24e7da3f36e\n",
    "def feature_selection(X, y, fxn, num_feats):\n",
    "    \n",
    "    #apply SelectKBest class to extract top 10 best features\n",
    "    bestfeatures = SelectKBest(score_func=fxn, k=num_feats)\n",
    "    fit = bestfeatures.fit(X, y)\n",
    "    dfscores = pd.Series(fit.scores_) # scores\n",
    "    dfcolumns = pd.Series(X.columns) # create dataframe of feature names\n",
    "    featureScores = pd.concat([dfcolumns,dfscores],axis=1) # concat two dataframes\n",
    "    featureScores.columns = ['Specs','Score']  # naming the dataframe columns\n",
    "    # print(featureScores.nlargest(num_feats,'Score'))  # print the top num_feats with the highest scores\n",
    "    return featureScores.nlargest(num_feats,'Score') # return dataframe of top num_feats with the highest scores"
   ]
  },
  {
   "cell_type": "markdown",
   "metadata": {},
   "source": [
    "##### Chi2"
   ]
  },
  {
   "cell_type": "markdown",
   "metadata": {},
   "source": [
    "Chi^2 tests are only applicable to categorical or nominal data (and therefore only takes positive values). I originally used this test, but most of the data at hand is numeric/decimal. I already know that I will use origin as a feature from the EDA portion of this project. The only other categorical feature might be ddf, so performing the following lines of code is unnecessary."
   ]
  },
  {
   "cell_type": "raw",
   "metadata": {},
   "source": [
    "# chi2 only takes all positive values\n",
    "# find only the columns with all positive values and create a new set of features\n",
    "pos_cols = []\n",
    "\n",
    "for col in full_df_clean.columns:\n",
    "    pos_cols.append(full_df_clean[col].ge(0).all())\n",
    "\n",
    "chi2_set = full_df_clean.loc[:, pos_cols]"
   ]
  },
  {
   "cell_type": "raw",
   "metadata": {},
   "source": [
    "print(chi2_set.shape)\n",
    "print(full_df_clean.shape)\n",
    "print(full_df_clean.shape[1]-chi2_set.shape[1])"
   ]
  },
  {
   "cell_type": "raw",
   "metadata": {},
   "source": [
    "13 features were dropped because they had negative values in them and therefore could not be used with the chi squared analysis."
   ]
  },
  {
   "cell_type": "raw",
   "metadata": {},
   "source": [
    "feature_selection(chi2_set, target_vals, chi2, 15)"
   ]
  },
  {
   "cell_type": "markdown",
   "metadata": {},
   "source": [
    "##### F-score"
   ]
  },
  {
   "cell_type": "markdown",
   "metadata": {},
   "source": [
    "The F-score test is based on ANOVA and can be used for classification tasks. The F-test checks for linear relationships between a feature and the target variable. "
   ]
  },
  {
   "cell_type": "code",
   "execution_count": 20,
   "metadata": {},
   "outputs": [
    {
     "data": {
      "text/html": [
       "<div>\n",
       "<style scoped>\n",
       "    .dataframe tbody tr th:only-of-type {\n",
       "        vertical-align: middle;\n",
       "    }\n",
       "\n",
       "    .dataframe tbody tr th {\n",
       "        vertical-align: top;\n",
       "    }\n",
       "\n",
       "    .dataframe thead th {\n",
       "        text-align: right;\n",
       "    }\n",
       "</style>\n",
       "<table border=\"1\" class=\"dataframe\">\n",
       "  <thead>\n",
       "    <tr style=\"text-align: right;\">\n",
       "      <th></th>\n",
       "      <th>Specs</th>\n",
       "      <th>Score</th>\n",
       "    </tr>\n",
       "  </thead>\n",
       "  <tbody>\n",
       "    <tr>\n",
       "      <th>3</th>\n",
       "      <td>origin</td>\n",
       "      <td>inf</td>\n",
       "    </tr>\n",
       "    <tr>\n",
       "      <th>1</th>\n",
       "      <td>distmod</td>\n",
       "      <td>7.421629e+04</td>\n",
       "    </tr>\n",
       "    <tr>\n",
       "      <th>17</th>\n",
       "      <td>mjd_diff_mean</td>\n",
       "      <td>2.273951e+03</td>\n",
       "    </tr>\n",
       "    <tr>\n",
       "      <th>16</th>\n",
       "      <td>flux_weight_skew</td>\n",
       "      <td>1.460854e+03</td>\n",
       "    </tr>\n",
       "    <tr>\n",
       "      <th>12</th>\n",
       "      <td>detected_mean</td>\n",
       "      <td>8.178295e+02</td>\n",
       "    </tr>\n",
       "    <tr>\n",
       "      <th>5</th>\n",
       "      <td>flux_skew</td>\n",
       "      <td>5.119138e+02</td>\n",
       "    </tr>\n",
       "    <tr>\n",
       "      <th>14</th>\n",
       "      <td>flux_ratio_sq_skew</td>\n",
       "      <td>3.883026e+02</td>\n",
       "    </tr>\n",
       "    <tr>\n",
       "      <th>26</th>\n",
       "      <td>flux_ratio_sq_sum_wz</td>\n",
       "      <td>1.660486e+02</td>\n",
       "    </tr>\n",
       "    <tr>\n",
       "      <th>13</th>\n",
       "      <td>detected_std</td>\n",
       "      <td>1.618972e+02</td>\n",
       "    </tr>\n",
       "    <tr>\n",
       "      <th>6</th>\n",
       "      <td>flux_err_min</td>\n",
       "      <td>1.330221e+02</td>\n",
       "    </tr>\n",
       "    <tr>\n",
       "      <th>2</th>\n",
       "      <td>mwebv</td>\n",
       "      <td>8.383258e+01</td>\n",
       "    </tr>\n",
       "    <tr>\n",
       "      <th>9</th>\n",
       "      <td>flux_err_median</td>\n",
       "      <td>6.283368e+01</td>\n",
       "    </tr>\n",
       "    <tr>\n",
       "      <th>4</th>\n",
       "      <td>flux_std</td>\n",
       "      <td>3.386220e+01</td>\n",
       "    </tr>\n",
       "    <tr>\n",
       "      <th>0</th>\n",
       "      <td>ddf</td>\n",
       "      <td>3.317439e+01</td>\n",
       "    </tr>\n",
       "    <tr>\n",
       "      <th>21</th>\n",
       "      <td>beyond_1std</td>\n",
       "      <td>2.874208e+01</td>\n",
       "    </tr>\n",
       "  </tbody>\n",
       "</table>\n",
       "</div>"
      ],
      "text/plain": [
       "                   Specs         Score\n",
       "3                 origin           inf\n",
       "1                distmod  7.421629e+04\n",
       "17         mjd_diff_mean  2.273951e+03\n",
       "16      flux_weight_skew  1.460854e+03\n",
       "12         detected_mean  8.178295e+02\n",
       "5              flux_skew  5.119138e+02\n",
       "14    flux_ratio_sq_skew  3.883026e+02\n",
       "26  flux_ratio_sq_sum_wz  1.660486e+02\n",
       "13          detected_std  1.618972e+02\n",
       "6           flux_err_min  1.330221e+02\n",
       "2                  mwebv  8.383258e+01\n",
       "9        flux_err_median  6.283368e+01\n",
       "4               flux_std  3.386220e+01\n",
       "0                    ddf  3.317439e+01\n",
       "21           beyond_1std  2.874208e+01"
      ]
     },
     "execution_count": 20,
     "metadata": {},
     "output_type": "execute_result"
    }
   ],
   "source": [
    "feature_selection(full_df, target_vals, f_classif, 15)"
   ]
  },
  {
   "cell_type": "markdown",
   "metadata": {},
   "source": [
    "##### Mutual Information"
   ]
  },
  {
   "cell_type": "markdown",
   "metadata": {},
   "source": [
    "One drawback to the F-test is that not all feature/target relationships are linear. A highly linear/correlated feature will score higher than a feature that is not linear, although may still show a strong non-linear relationship to the target.\n",
    "\n",
    "Using the mutual information statistic checks how dependent one feature is on another. It is less reliant on linear relationships between variables, so could be a better statistic in some cases."
   ]
  },
  {
   "cell_type": "code",
   "execution_count": 21,
   "metadata": {},
   "outputs": [
    {
     "data": {
      "text/html": [
       "<div>\n",
       "<style scoped>\n",
       "    .dataframe tbody tr th:only-of-type {\n",
       "        vertical-align: middle;\n",
       "    }\n",
       "\n",
       "    .dataframe tbody tr th {\n",
       "        vertical-align: top;\n",
       "    }\n",
       "\n",
       "    .dataframe thead th {\n",
       "        text-align: right;\n",
       "    }\n",
       "</style>\n",
       "<table border=\"1\" class=\"dataframe\">\n",
       "  <thead>\n",
       "    <tr style=\"text-align: right;\">\n",
       "      <th></th>\n",
       "      <th>Specs</th>\n",
       "      <th>Score</th>\n",
       "    </tr>\n",
       "  </thead>\n",
       "  <tbody>\n",
       "    <tr>\n",
       "      <th>1</th>\n",
       "      <td>distmod</td>\n",
       "      <td>0.768750</td>\n",
       "    </tr>\n",
       "    <tr>\n",
       "      <th>17</th>\n",
       "      <td>mjd_diff_mean</td>\n",
       "      <td>0.654599</td>\n",
       "    </tr>\n",
       "    <tr>\n",
       "      <th>16</th>\n",
       "      <td>flux_weight_skew</td>\n",
       "      <td>0.624779</td>\n",
       "    </tr>\n",
       "    <tr>\n",
       "      <th>3</th>\n",
       "      <td>origin</td>\n",
       "      <td>0.605963</td>\n",
       "    </tr>\n",
       "    <tr>\n",
       "      <th>19</th>\n",
       "      <td>flux_norm_amp_mean</td>\n",
       "      <td>0.536172</td>\n",
       "    </tr>\n",
       "    <tr>\n",
       "      <th>5</th>\n",
       "      <td>flux_skew</td>\n",
       "      <td>0.466850</td>\n",
       "    </tr>\n",
       "    <tr>\n",
       "      <th>25</th>\n",
       "      <td>flux_median_wz</td>\n",
       "      <td>0.464388</td>\n",
       "    </tr>\n",
       "    <tr>\n",
       "      <th>18</th>\n",
       "      <td>MAD_median</td>\n",
       "      <td>0.445776</td>\n",
       "    </tr>\n",
       "    <tr>\n",
       "      <th>22</th>\n",
       "      <td>flux_min_wz</td>\n",
       "      <td>0.433026</td>\n",
       "    </tr>\n",
       "    <tr>\n",
       "      <th>6</th>\n",
       "      <td>flux_err_min</td>\n",
       "      <td>0.407821</td>\n",
       "    </tr>\n",
       "    <tr>\n",
       "      <th>27</th>\n",
       "      <td>flux_weighted_mean_wz</td>\n",
       "      <td>0.386228</td>\n",
       "    </tr>\n",
       "    <tr>\n",
       "      <th>24</th>\n",
       "      <td>flux_mean_wz</td>\n",
       "      <td>0.382693</td>\n",
       "    </tr>\n",
       "    <tr>\n",
       "      <th>20</th>\n",
       "      <td>flux_norm_amp_w_mean</td>\n",
       "      <td>0.378046</td>\n",
       "    </tr>\n",
       "    <tr>\n",
       "      <th>12</th>\n",
       "      <td>detected_mean</td>\n",
       "      <td>0.377975</td>\n",
       "    </tr>\n",
       "    <tr>\n",
       "      <th>14</th>\n",
       "      <td>flux_ratio_sq_skew</td>\n",
       "      <td>0.351129</td>\n",
       "    </tr>\n",
       "  </tbody>\n",
       "</table>\n",
       "</div>"
      ],
      "text/plain": [
       "                    Specs     Score\n",
       "1                 distmod  0.768750\n",
       "17          mjd_diff_mean  0.654599\n",
       "16       flux_weight_skew  0.624779\n",
       "3                  origin  0.605963\n",
       "19     flux_norm_amp_mean  0.536172\n",
       "5               flux_skew  0.466850\n",
       "25         flux_median_wz  0.464388\n",
       "18             MAD_median  0.445776\n",
       "22            flux_min_wz  0.433026\n",
       "6            flux_err_min  0.407821\n",
       "27  flux_weighted_mean_wz  0.386228\n",
       "24           flux_mean_wz  0.382693\n",
       "20   flux_norm_amp_w_mean  0.378046\n",
       "12          detected_mean  0.377975\n",
       "14     flux_ratio_sq_skew  0.351129"
      ]
     },
     "execution_count": 21,
     "metadata": {},
     "output_type": "execute_result"
    }
   ],
   "source": [
    "feature_selection(full_df, target_vals, mutual_info_classif, 15)"
   ]
  },
  {
   "cell_type": "markdown",
   "metadata": {},
   "source": [
    "#### Feature Importance"
   ]
  },
  {
   "cell_type": "markdown",
   "metadata": {},
   "source": [
    "Feature importance is a mehtod built into tree based classification methods in sklearn. The importances are calculated by how much each variable contributes to classifying the target variable. "
   ]
  },
  {
   "cell_type": "code",
   "execution_count": 22,
   "metadata": {},
   "outputs": [
    {
     "name": "stderr",
     "output_type": "stream",
     "text": [
      "C:\\Users\\Kathleen Lange\\Anaconda3\\lib\\site-packages\\sklearn\\ensemble\\forest.py:246: FutureWarning: The default value of n_estimators will change from 10 in version 0.20 to 100 in 0.22.\n",
      "  \"10 in version 0.20 to 100 in 0.22.\", FutureWarning)\n"
     ]
    },
    {
     "name": "stdout",
     "output_type": "stream",
     "text": [
      "[0.0053479  0.11809133 0.01835056 0.06791394 0.02503367 0.05051288\n",
      " 0.02745108 0.01928077 0.0189641  0.02031956 0.01899669 0.0201323\n",
      " 0.04750807 0.04068538 0.03689104 0.02084953 0.10096793 0.09012993\n",
      " 0.02223057 0.02428904 0.02424339 0.01796299 0.02145831 0.02407558\n",
      " 0.02377549 0.02567747 0.02144627 0.0233922  0.02402204]\n"
     ]
    },
    {
     "data": {
      "image/png": "[encoded data removed]",
      "text/plain": [
       "<Figure size 432x288 with 1 Axes>"
      ]
     },
     "metadata": {
      "needs_background": "light"
     },
     "output_type": "display_data"
    }
   ],
   "source": [
    "model = ExtraTreesClassifier() \n",
    "#could also use RandomForestClassifer() or another tree classifier and results should be very similar\n",
    "\n",
    "model.fit(full_df,target_vals)\n",
    "\n",
    "print(model.feature_importances_) \n",
    "\n",
    "feat_importances = pd.Series(model.feature_importances_, index=full_df.columns)\n",
    "feat_importances.nlargest(15).plot(kind='barh')\n",
    "plt.show()"
   ]
  },
  {
   "cell_type": "code",
   "execution_count": 23,
   "metadata": {},
   "outputs": [
    {
     "name": "stderr",
     "output_type": "stream",
     "text": [
      "C:\\Users\\Kathleen Lange\\Anaconda3\\lib\\site-packages\\sklearn\\ensemble\\forest.py:246: FutureWarning: The default value of n_estimators will change from 10 in version 0.20 to 100 in 0.22.\n",
      "  \"10 in version 0.20 to 100 in 0.22.\", FutureWarning)\n"
     ]
    },
    {
     "data": {
      "image/png": "[encoded data removed]",
      "text/plain": [
       "<Figure size 432x288 with 1 Axes>"
      ]
     },
     "metadata": {
      "needs_background": "light"
     },
     "output_type": "display_data"
    }
   ],
   "source": [
    "model = ExtraTreesClassifier() \n",
    "model.fit(full_df,target_vals)\n",
    "feat_importances = pd.Series(model.feature_importances_, index=full_df.columns)\n",
    "feat_importances.nlargest(15).plot(kind='barh')\n",
    "plt.show()"
   ]
  },
  {
   "cell_type": "markdown",
   "metadata": {},
   "source": [
    "Using the above two methods of feature reduction, univariate selection and feature importance, gives mostly the same features. However, many of the above features are correlated so I will look at a correlation matrix and pull out the features that are highly correlated because they will not add a lot to the ability of the classifier to distinguish a class."
   ]
  },
  {
   "cell_type": "markdown",
   "metadata": {},
   "source": [
    "#### Correlation Matrix with Heatmap"
   ]
  },
  {
   "cell_type": "code",
   "execution_count": 24,
   "metadata": {},
   "outputs": [
    {
     "data": {
      "image/png": "[encoded data removed]",
      "text/plain": [
       "<Figure size 1080x1080 with 2 Axes>"
      ]
     },
     "metadata": {
      "needs_background": "light"
     },
     "output_type": "display_data"
    }
   ],
   "source": [
    "#get correlations of each features in dataset\n",
    "corrmat = full_df.corr()\n",
    "mask = np.zeros_like(corrmat, dtype=np.bool)\n",
    "mask[np.triu_indices_from(mask)] = True\n",
    "plt.figure(figsize=(15, 15))\n",
    "g = sns.heatmap(corrmat,\n",
    "            vmin=-1,\n",
    "            cmap=\"RdYlGn\",\n",
    "            #annot=True,\n",
    "            mask = mask);"
   ]
  },
  {
   "cell_type": "markdown",
   "metadata": {},
   "source": [
    "The above heatmap shows that there are quite a few features that are not correlated. But, there are still some correlated features (positively and negatively) that show up. Due to the high number of features, it is hard to know which features above are the most correlated and the value of the correlation. To get the n number of features that are most correlated and their correlation values use the below code. It removes the redundant features (self-correlation). I will only remove features that have an absolute correlation value of greater than 0.8 with another feature within the important features set."
   ]
  },
  {
   "cell_type": "code",
   "execution_count": 25,
   "metadata": {},
   "outputs": [],
   "source": [
    "# below code borrowed from aruns's answer from here: \n",
    "# https://stackoverflow.com/questions/17778394/list-highest-correlation-pairs-from-a-large-correlation-matrix-in-pandas\n",
    "def get_redundant_pairs(df):\n",
    "    pairs_to_drop = set()\n",
    "    cols = df.columns\n",
    "    for i in range(0, df.shape[1]): # range(len(df.columns)) also would work here\n",
    "        for j in range(0, i+1): \n",
    "            pairs_to_drop.add((cols[i], cols[j])) \n",
    "            # 1st iter pair (0,0)\n",
    "            # 2nd iter pair (1,0), (1,1), etc.\n",
    "    return pairs_to_drop\n",
    "\n",
    "def get_top_abs_correlations(df, n):\n",
    "    feats_corr = df.corr().abs().unstack()\n",
    "    labels_to_drop = get_redundant_pairs(df)\n",
    "    feats_corr = feats_corr.drop(labels=labels_to_drop).sort_values(ascending=False)\n",
    "    return feats_corr[0:n]"
   ]
  },
  {
   "cell_type": "code",
   "execution_count": 26,
   "metadata": {},
   "outputs": [
    {
     "name": "stdout",
     "output_type": "stream",
     "text": [
      "Top Absolute Correlations\n",
      "flux_err_max    flux_err_std             0.999573\n",
      "flux_err_mean   flux_err_std             0.999271\n",
      "flux_err_max    flux_err_mean            0.998125\n",
      "distmod         origin                   0.994964\n",
      "flux_max_wz     flux_amp_wz              0.994650\n",
      "flux_err_mean   flux_min_wz              0.988319\n",
      "flux_err_std    flux_min_wz              0.984480\n",
      "flux_err_max    flux_min_wz              0.982399\n",
      "flux_err_mean   flux_amp_wz              0.981113\n",
      "flux_err_std    flux_amp_wz              0.979212\n",
      "flux_err_max    flux_amp_wz              0.979095\n",
      "flux_min_wz     flux_amp_wz              0.975339\n",
      "flux_err_mean   flux_max_wz              0.961168\n",
      "flux_err_max    flux_max_wz              0.961009\n",
      "flux_err_std    flux_max_wz              0.960206\n",
      "flux_min_wz     flux_max_wz              0.947321\n",
      "flux_std        flux_max_wz              0.936263\n",
      "MAD_median      flux_mean_wz             0.934225\n",
      "flux_mean_wz    flux_weighted_mean_wz    0.928160\n",
      "flux_std        flux_amp_wz              0.916526\n",
      "ddf             beyond_1std              0.888872\n",
      "MAD_median      flux_weighted_mean_wz    0.850530\n",
      "flux_std        flux_min_wz              0.841275\n",
      "                flux_err_mean            0.830621\n",
      "                flux_err_std             0.821456\n",
      "                flux_err_max             0.819698\n",
      "MAD_median      flux_median_wz           0.816597\n",
      "flux_mean_wz    flux_median_wz           0.774848\n",
      "flux_err_min    flux_err_median          0.771033\n",
      "flux_median_wz  flux_weighted_mean_wz    0.728618\n",
      "dtype: float64\n"
     ]
    }
   ],
   "source": [
    "print(\"Top Absolute Correlations\")\n",
    "print(get_top_abs_correlations(full_df, 30))"
   ]
  },
  {
   "cell_type": "markdown",
   "metadata": {},
   "source": [
    "Based on the feature importances, univariate selections and correlations the following unique features were determined to be the most important.\n",
    "- origin\n",
    "- distmod\n",
    "- mjd_diff_mean\n",
    "- flux_weight_skew\n",
    "- detected_mean\n",
    "- flux_skew\n",
    "- flux_ratio_sq_skew\n",
    "- flux_ratio_sq_sum_wz\n",
    "- detected_std\n",
    "- flux_err_min\n",
    "- mwebv\n",
    "- flux_err_median\n",
    "- flux_std\n",
    "- ddf\n",
    "- flux_norm_amp_mean\n",
    "- MAD_median\n",
    "- flux_norm_amp_w_mean"
   ]
  },
  {
   "cell_type": "markdown",
   "metadata": {},
   "source": [
    "### Standardize Features"
   ]
  },
  {
   "cell_type": "code",
   "execution_count": 27,
   "metadata": {},
   "outputs": [],
   "source": [
    "# create dataframe with only the important features determined above.\n",
    "df_imp_feats = full_df[['origin', 'distmod', 'mjd_diff_mean', 'flux_weight_skew', 'detected_mean',\n",
    "                        'flux_skew', 'flux_ratio_sq_skew', 'flux_ratio_sq_sum_wz', 'detected_std', 'flux_err_min',\n",
    "                        'mwebv', 'flux_err_median', 'flux_std', 'ddf', 'flux_norm_amp_mean',\n",
    "                        'MAD_median', 'flux_norm_amp_w_mean']]\n",
    "\n",
    "df_imp_scaled = df_imp_feats.copy() #create copy of dataframe\n",
    "c_names = ['distmod', 'mjd_diff_mean', 'flux_weight_skew', 'detected_mean', \n",
    "           'mwebv', 'flux_err_median', 'flux_std', 'flux_norm_amp_mean', \n",
    "           'MAD_median', 'flux_norm_amp_w_mean'] # only these columns need to be scaled\n",
    "\n",
    "\n",
    "\n",
    "sc_feats = df_imp_scaled[c_names] # create subset dataframe with only columns needed to be scaled\n",
    "sc_feats = scaler.fit_transform(sc_feats.values) # scale features\n",
    "\n",
    "df_imp_scaled[c_names] = sc_feats # add scaled features back to dataframe"
   ]
  },
  {
   "cell_type": "code",
   "execution_count": 28,
   "metadata": {},
   "outputs": [],
   "source": [
    "df_imp_feats['target'] = target_vals.values\n",
    "df_imp_scaled['target'] = target_vals.values"
   ]
  },
  {
   "cell_type": "markdown",
   "metadata": {},
   "source": [
    "### Save Reduced Manual Features Dataframe"
   ]
  },
  {
   "cell_type": "code",
   "execution_count": 29,
   "metadata": {},
   "outputs": [],
   "source": [
    "# save dataframe for training set 2\n",
    "with open(data_folder / 'reduced_manual_features.pk', 'wb') as f:\n",
    "    pickle.dump(df_imp_feats, f)\n",
    "    \n",
    "# save dataframe for training set 2_scaled\n",
    "with open(data_folder / 'reduced_manual_features_scaled.pk', 'wb') as f:\n",
    "    pickle.dump(df_imp_scaled, f)"
   ]
  },
  {
   "cell_type": "markdown",
   "metadata": {},
   "source": [
    "## Featuretools Feature Selection"
   ]
  },
  {
   "cell_type": "markdown",
   "metadata": {},
   "source": [
    "The following analysis was based off of [this Medium blog post](https://medium.com/@rrfd/simple-automatic-feature-engineering-using-featuretools-in-python-for-classification-b1308040e183)."
   ]
  },
  {
   "cell_type": "code",
   "execution_count": 30,
   "metadata": {},
   "outputs": [
    {
     "data": {
      "text/html": [
       "<div>\n",
       "<style scoped>\n",
       "    .dataframe tbody tr th:only-of-type {\n",
       "        vertical-align: middle;\n",
       "    }\n",
       "\n",
       "    .dataframe tbody tr th {\n",
       "        vertical-align: top;\n",
       "    }\n",
       "\n",
       "    .dataframe thead th {\n",
       "        text-align: right;\n",
       "    }\n",
       "</style>\n",
       "<table border=\"1\" class=\"dataframe\">\n",
       "  <thead>\n",
       "    <tr style=\"text-align: right;\">\n",
       "      <th></th>\n",
       "      <th>name</th>\n",
       "      <th>type</th>\n",
       "      <th>description</th>\n",
       "    </tr>\n",
       "  </thead>\n",
       "  <tbody>\n",
       "    <tr>\n",
       "      <th>0</th>\n",
       "      <td>last</td>\n",
       "      <td>aggregation</td>\n",
       "      <td>Determines the last value in a list.</td>\n",
       "    </tr>\n",
       "    <tr>\n",
       "      <th>1</th>\n",
       "      <td>percent_true</td>\n",
       "      <td>aggregation</td>\n",
       "      <td>Determines the percent of `True` values.</td>\n",
       "    </tr>\n",
       "    <tr>\n",
       "      <th>2</th>\n",
       "      <td>time_since_first</td>\n",
       "      <td>aggregation</td>\n",
       "      <td>Calculates the time elapsed since the first datetime (in seconds).</td>\n",
       "    </tr>\n",
       "    <tr>\n",
       "      <th>3</th>\n",
       "      <td>num_true</td>\n",
       "      <td>aggregation</td>\n",
       "      <td>Counts the number of `True` values.</td>\n",
       "    </tr>\n",
       "    <tr>\n",
       "      <th>4</th>\n",
       "      <td>sum</td>\n",
       "      <td>aggregation</td>\n",
       "      <td>Calculates the total addition, ignoring `NaN`.</td>\n",
       "    </tr>\n",
       "    <tr>\n",
       "      <th>5</th>\n",
       "      <td>min</td>\n",
       "      <td>aggregation</td>\n",
       "      <td>Calculates the smallest value, ignoring `NaN` values.</td>\n",
       "    </tr>\n",
       "    <tr>\n",
       "      <th>6</th>\n",
       "      <td>median</td>\n",
       "      <td>aggregation</td>\n",
       "      <td>Determines the middlemost number in a list of values.</td>\n",
       "    </tr>\n",
       "    <tr>\n",
       "      <th>7</th>\n",
       "      <td>all</td>\n",
       "      <td>aggregation</td>\n",
       "      <td>Calculates if all values are 'True' in a list.</td>\n",
       "    </tr>\n",
       "    <tr>\n",
       "      <th>8</th>\n",
       "      <td>count</td>\n",
       "      <td>aggregation</td>\n",
       "      <td>Determines the total number of values, excluding `NaN`.</td>\n",
       "    </tr>\n",
       "    <tr>\n",
       "      <th>9</th>\n",
       "      <td>avg_time_between</td>\n",
       "      <td>aggregation</td>\n",
       "      <td>Computes the average number of seconds between consecutive events.</td>\n",
       "    </tr>\n",
       "    <tr>\n",
       "      <th>10</th>\n",
       "      <td>time_since_last</td>\n",
       "      <td>aggregation</td>\n",
       "      <td>Calculates the time elapsed since the last datetime (in seconds).</td>\n",
       "    </tr>\n",
       "    <tr>\n",
       "      <th>11</th>\n",
       "      <td>num_unique</td>\n",
       "      <td>aggregation</td>\n",
       "      <td>Determines the number of distinct values, ignoring `NaN` values.</td>\n",
       "    </tr>\n",
       "    <tr>\n",
       "      <th>12</th>\n",
       "      <td>mean</td>\n",
       "      <td>aggregation</td>\n",
       "      <td>Computes the average for a list of values.</td>\n",
       "    </tr>\n",
       "    <tr>\n",
       "      <th>13</th>\n",
       "      <td>mode</td>\n",
       "      <td>aggregation</td>\n",
       "      <td>Determines the most commonly repeated value.</td>\n",
       "    </tr>\n",
       "    <tr>\n",
       "      <th>14</th>\n",
       "      <td>any</td>\n",
       "      <td>aggregation</td>\n",
       "      <td>Determines if any value is 'True' in a list.</td>\n",
       "    </tr>\n",
       "    <tr>\n",
       "      <th>15</th>\n",
       "      <td>trend</td>\n",
       "      <td>aggregation</td>\n",
       "      <td>Calculates the trend of a variable over time.</td>\n",
       "    </tr>\n",
       "    <tr>\n",
       "      <th>16</th>\n",
       "      <td>std</td>\n",
       "      <td>aggregation</td>\n",
       "      <td>Computes the dispersion relative to the mean value, ignoring `NaN`.</td>\n",
       "    </tr>\n",
       "    <tr>\n",
       "      <th>17</th>\n",
       "      <td>max</td>\n",
       "      <td>aggregation</td>\n",
       "      <td>Calculates the highest value, ignoring `NaN` values.</td>\n",
       "    </tr>\n",
       "    <tr>\n",
       "      <th>18</th>\n",
       "      <td>n_most_common</td>\n",
       "      <td>aggregation</td>\n",
       "      <td>Determines the `n` most common elements.</td>\n",
       "    </tr>\n",
       "    <tr>\n",
       "      <th>19</th>\n",
       "      <td>skew</td>\n",
       "      <td>aggregation</td>\n",
       "      <td>Computes the extent to which a distribution differs from a normal distribution.</td>\n",
       "    </tr>\n",
       "  </tbody>\n",
       "</table>\n",
       "</div>"
      ],
      "text/plain": [
       "                name         type  \\\n",
       "0               last  aggregation   \n",
       "1       percent_true  aggregation   \n",
       "2   time_since_first  aggregation   \n",
       "3           num_true  aggregation   \n",
       "4                sum  aggregation   \n",
       "5                min  aggregation   \n",
       "6             median  aggregation   \n",
       "7                all  aggregation   \n",
       "8              count  aggregation   \n",
       "9   avg_time_between  aggregation   \n",
       "10   time_since_last  aggregation   \n",
       "11        num_unique  aggregation   \n",
       "12              mean  aggregation   \n",
       "13              mode  aggregation   \n",
       "14               any  aggregation   \n",
       "15             trend  aggregation   \n",
       "16               std  aggregation   \n",
       "17               max  aggregation   \n",
       "18     n_most_common  aggregation   \n",
       "19              skew  aggregation   \n",
       "\n",
       "                                                                        description  \n",
       "0                                              Determines the last value in a list.  \n",
       "1                                          Determines the percent of `True` values.  \n",
       "2                Calculates the time elapsed since the first datetime (in seconds).  \n",
       "3                                               Counts the number of `True` values.  \n",
       "4                                    Calculates the total addition, ignoring `NaN`.  \n",
       "5                             Calculates the smallest value, ignoring `NaN` values.  \n",
       "6                             Determines the middlemost number in a list of values.  \n",
       "7                                    Calculates if all values are 'True' in a list.  \n",
       "8                           Determines the total number of values, excluding `NaN`.  \n",
       "9                Computes the average number of seconds between consecutive events.  \n",
       "10                Calculates the time elapsed since the last datetime (in seconds).  \n",
       "11                 Determines the number of distinct values, ignoring `NaN` values.  \n",
       "12                                       Computes the average for a list of values.  \n",
       "13                                     Determines the most commonly repeated value.  \n",
       "14                                     Determines if any value is 'True' in a list.  \n",
       "15                                    Calculates the trend of a variable over time.  \n",
       "16              Computes the dispersion relative to the mean value, ignoring `NaN`.  \n",
       "17                             Calculates the highest value, ignoring `NaN` values.  \n",
       "18                                         Determines the `n` most common elements.  \n",
       "19  Computes the extent to which a distribution differs from a normal distribution.  "
      ]
     },
     "execution_count": 30,
     "metadata": {},
     "output_type": "execute_result"
    }
   ],
   "source": [
    "primitives = ft.list_primitives()\n",
    "pd.options.display.max_colwidth = 100\n",
    "\n",
    "# show types of aggregation functions available \n",
    "# can also use type == 'transform' to get the other function types\n",
    "primitives[primitives['type'] == 'aggregation'] "
   ]
  },
  {
   "cell_type": "markdown",
   "metadata": {},
   "source": [
    "Featuretools works most efficiently when all of the variables are in their lowest possible memory allocation."
   ]
  },
  {
   "cell_type": "code",
   "execution_count": 31,
   "metadata": {},
   "outputs": [
    {
     "name": "stdout",
     "output_type": "stream",
     "text": [
      "<class 'pandas.core.frame.DataFrame'>\n",
      "RangeIndex: 1421705 entries, 0 to 1421704\n",
      "Data columns (total 15 columns):\n",
      "object_id          1421705 non-null int64\n",
      "mjd                1421705 non-null float64\n",
      "passband           1421705 non-null int64\n",
      "flux               1421705 non-null float64\n",
      "flux_err           1421705 non-null float64\n",
      "detected           1421705 non-null int64\n",
      "mjd_diff           236880 non-null float64\n",
      "flux_ratio_sq      1421705 non-null float64\n",
      "flux_weight        1421705 non-null float64\n",
      "flux_weight_sum    1421705 non-null float64\n",
      "flux_rsq_sum       1421705 non-null float64\n",
      "flux_w_mean        1421705 non-null float64\n",
      "flux_median        1421705 non-null float64\n",
      "MAD                1421705 non-null float64\n",
      "flux_diff          1421705 non-null float64\n",
      "dtypes: float64(12), int64(3)\n",
      "memory usage: 162.7 MB\n",
      "None\n",
      "<class 'pandas.core.frame.DataFrame'>\n",
      "RangeIndex: 7848 entries, 0 to 7847\n",
      "Data columns (total 9 columns):\n",
      "object_id             7848 non-null int64\n",
      "ddf                   7848 non-null int64\n",
      "hostgal_specz         7848 non-null float64\n",
      "hostgal_photoz        7848 non-null float64\n",
      "hostgal_photoz_err    7848 non-null float64\n",
      "distmod               7848 non-null float64\n",
      "mwebv                 7848 non-null float64\n",
      "target                7848 non-null int64\n",
      "origin                7848 non-null category\n",
      "dtypes: category(1), float64(5), int64(3)\n",
      "memory usage: 498.3 KB\n",
      "None\n"
     ]
    }
   ],
   "source": [
    "print(train.info())\n",
    "print(train_meta.info())"
   ]
  },
  {
   "cell_type": "code",
   "execution_count": 32,
   "metadata": {},
   "outputs": [],
   "source": [
    "train_meta.drop(columns=['target'], inplace=True) # remove the target variable from the proposed feature set\n",
    "\n",
    "train_meta['origin'] = train_meta.origin.cat.codes\n",
    "                                               \n",
    "# object_id should be a int16 or int32 variable instead of int8 in the convert variables function\n",
    "train['object_id'] = train['object_id'].astype('int32')\n",
    "train_meta['object_id'] = train_meta['object_id'].astype('int32')\n",
    "\n",
    "train_clean = convert_variables(train)\n",
    "train_meta_clean = convert_variables(train_meta)"
   ]
  },
  {
   "cell_type": "markdown",
   "metadata": {},
   "source": [
    "Create an entity set that defines the relationship between the flux training data and the meta data for the training set."
   ]
  },
  {
   "cell_type": "code",
   "execution_count": 33,
   "metadata": {},
   "outputs": [
    {
     "name": "stdout",
     "output_type": "stream",
     "text": [
      "2019-06-29 13:47:09,697 featuretools.entityset - WARNING    index index not found in dataframe, creating new integer column\n"
     ]
    },
    {
     "data": {
      "text/plain": [
       "Entityset: plasticc_set\n",
       "  Entities:\n",
       "    flux [Rows: 1421705, Columns: 16]\n",
       "    meta [Rows: 7848, Columns: 8]\n",
       "  Relationships:\n",
       "    flux.object_id -> meta.object_id"
      ]
     },
     "execution_count": 33,
     "metadata": {},
     "output_type": "execute_result"
    }
   ],
   "source": [
    "es = ft.EntitySet('plasticc_set')\n",
    "\n",
    "es.entity_from_dataframe(dataframe=train_clean, # dataframe that data is located in\n",
    "                         entity_id='flux', # label for dataframe within the entity set\n",
    "                         index = 'index') # define which column of the dataframe represents the unique ID\n",
    "\n",
    "es.entity_from_dataframe(dataframe=train_meta_clean,\n",
    "                         entity_id='meta',\n",
    "                         index = 'object_id')\n",
    "\n",
    "# define which variables are related between the dataframes\n",
    "# parent dataframe is first (where relationship variable ID only occurs 1x) \n",
    "# and child is second (where relationship variable can appear multiple times)\n",
    "r_meta_flux = ft.Relationship(es['meta']['object_id'], \n",
    "                              es['flux']['object_id']) \n",
    "\n",
    "\n",
    "# Add the relationship to the entity set\n",
    "es = es.add_relationship(r_meta_flux)\n",
    "\n",
    "es"
   ]
  },
  {
   "cell_type": "code",
   "execution_count": 34,
   "metadata": {},
   "outputs": [],
   "source": [
    "feat_matrix, feat_names = ft.dfs(entityset=es,\n",
    "                                 target_entity='meta', # dataframe features are appended to\n",
    "                                 agg_primitives=['mean', 'std', 'max', 'min', 'std', 'skew'], # aggs of child entity columns\n",
    "                                 trans_primitives=['multiply_numeric', 'diff'], # how to combine columns\n",
    "                                 max_depth=2) # number of columns/individual features that are combined"
   ]
  },
  {
   "cell_type": "markdown",
   "metadata": {},
   "source": [
    "Define types of features that should be created."
   ]
  },
  {
   "cell_type": "code",
   "execution_count": 35,
   "metadata": {},
   "outputs": [],
   "source": [
    "feature_matrix, feature_names = ft.dfs(entityset=es,\n",
    "                                      target_entity='meta', # dataframe features are appended to\n",
    "                                      agg_primitives=['mean', 'std', 'max', 'min', 'std', 'skew'], # aggregations to take on the child entity columns\n",
    "                                      trans_primitives=['multiply_numeric', 'diff', 'divide_numeric'], # how to combine columns\n",
    "                                      max_depth=2) # number of columns/individual features that are combined"
   ]
  },
  {
   "cell_type": "code",
   "execution_count": 36,
   "metadata": {},
   "outputs": [
    {
     "data": {
      "text/plain": [
       "13944"
      ]
     },
     "execution_count": 36,
     "metadata": {},
     "output_type": "execute_result"
    }
   ],
   "source": [
    "len(feature_names)"
   ]
  },
  {
   "cell_type": "markdown",
   "metadata": {},
   "source": [
    "Let the Featuretools library auto-create features."
   ]
  },
  {
   "cell_type": "code",
   "execution_count": 37,
   "metadata": {},
   "outputs": [],
   "source": [
    "auto_features, auto_feature_names = ft.dfs(entityset=es, target_entity='meta', max_depth = 3)"
   ]
  },
  {
   "cell_type": "code",
   "execution_count": 38,
   "metadata": {},
   "outputs": [
    {
     "data": {
      "text/plain": [
       "92"
      ]
     },
     "execution_count": 38,
     "metadata": {},
     "output_type": "execute_result"
    }
   ],
   "source": [
    "len(auto_feature_names)"
   ]
  },
  {
   "cell_type": "markdown",
   "metadata": {},
   "source": [
    "### Review and Clean Data"
   ]
  },
  {
   "cell_type": "code",
   "execution_count": 39,
   "metadata": {},
   "outputs": [
    {
     "name": "stdout",
     "output_type": "stream",
     "text": [
      "4566\n"
     ]
    }
   ],
   "source": [
    "# replace inf/-inf columns with NaN\n",
    "feature_matrix = feature_matrix.replace([np.inf, -np.inf], np.nan) \n",
    "\n",
    "# check for NaN values\n",
    "print(feature_matrix.isna().any()[lambda x: x].count())\n",
    "\n",
    "# drop all columns that contain NaN, out of 2742 features\n",
    "# removing these columns will not make a large difference.\n",
    "feature_matrix = feature_matrix.dropna(axis='columns') "
   ]
  },
  {
   "cell_type": "code",
   "execution_count": 40,
   "metadata": {},
   "outputs": [],
   "source": [
    "auto_features.isna().any()[lambda x: x]\n",
    "auto_features = auto_features.dropna(axis='columns')"
   ]
  },
  {
   "cell_type": "markdown",
   "metadata": {},
   "source": [
    "### Dimensionality Reduction"
   ]
  },
  {
   "cell_type": "markdown",
   "metadata": {},
   "source": [
    "Use the same methods above of univariate selection and then correlation feature reduction to find the most important features that were generated using Featuretools. I only chose to use the mutual information statistical test because it gave almost the exact same features as f-score and feature importances and it does well with non-linear features which may exist in my dataset (for example, the distmod is a logarithm function of the redshift)."
   ]
  },
  {
   "cell_type": "code",
   "execution_count": 41,
   "metadata": {},
   "outputs": [
    {
     "data": {
      "text/html": [
       "<div>\n",
       "<style scoped>\n",
       "    .dataframe tbody tr th:only-of-type {\n",
       "        vertical-align: middle;\n",
       "    }\n",
       "\n",
       "    .dataframe tbody tr th {\n",
       "        vertical-align: top;\n",
       "    }\n",
       "\n",
       "    .dataframe thead th {\n",
       "        text-align: right;\n",
       "    }\n",
       "</style>\n",
       "<table border=\"1\" class=\"dataframe\">\n",
       "  <thead>\n",
       "    <tr style=\"text-align: right;\">\n",
       "      <th></th>\n",
       "      <th>Specs</th>\n",
       "      <th>Score</th>\n",
       "    </tr>\n",
       "  </thead>\n",
       "  <tbody>\n",
       "    <tr>\n",
       "      <th>2970</th>\n",
       "      <td>hostgal_specz * MAX(flux.mjd_diff)</td>\n",
       "      <td>0.897981</td>\n",
       "    </tr>\n",
       "    <tr>\n",
       "      <th>1835</th>\n",
       "      <td>hostgal_specz * MIN(flux.mjd_diff)</td>\n",
       "      <td>0.891216</td>\n",
       "    </tr>\n",
       "    <tr>\n",
       "      <th>2261</th>\n",
       "      <td>hostgal_specz * MEAN(flux.mjd_diff)</td>\n",
       "      <td>0.889129</td>\n",
       "    </tr>\n",
       "    <tr>\n",
       "      <th>4732</th>\n",
       "      <td>distmod * hostgal_specz / SKEW(flux.flux_weight)</td>\n",
       "      <td>0.875515</td>\n",
       "    </tr>\n",
       "    <tr>\n",
       "      <th>4473</th>\n",
       "      <td>hostgal_specz / SKEW(flux.flux_ratio_sq)</td>\n",
       "      <td>0.870797</td>\n",
       "    </tr>\n",
       "    <tr>\n",
       "      <th>4305</th>\n",
       "      <td>hostgal_specz / SKEW(flux.flux_weight)</td>\n",
       "      <td>0.870559</td>\n",
       "    </tr>\n",
       "    <tr>\n",
       "      <th>2881</th>\n",
       "      <td>hostgal_specz * MEAN(flux.detected)</td>\n",
       "      <td>0.860993</td>\n",
       "    </tr>\n",
       "    <tr>\n",
       "      <th>7672</th>\n",
       "      <td>distmod * hostgal_specz / SKEW(flux.flux_ratio_sq)</td>\n",
       "      <td>0.856949</td>\n",
       "    </tr>\n",
       "    <tr>\n",
       "      <th>6478</th>\n",
       "      <td>hostgal_specz / SKEW(flux.MAD)</td>\n",
       "      <td>0.855108</td>\n",
       "    </tr>\n",
       "    <tr>\n",
       "      <th>6261</th>\n",
       "      <td>hostgal_specz / SKEW(flux.flux_diff)</td>\n",
       "      <td>0.854694</td>\n",
       "    </tr>\n",
       "    <tr>\n",
       "      <th>6240</th>\n",
       "      <td>distmod / MAX(flux.mjd_diff)</td>\n",
       "      <td>0.853784</td>\n",
       "    </tr>\n",
       "    <tr>\n",
       "      <th>3575</th>\n",
       "      <td>hostgal_specz * MIN(flux.flux_median)</td>\n",
       "      <td>0.853523</td>\n",
       "    </tr>\n",
       "    <tr>\n",
       "      <th>1789</th>\n",
       "      <td>hostgal_specz * STD(flux.detected)</td>\n",
       "      <td>0.851461</td>\n",
       "    </tr>\n",
       "    <tr>\n",
       "      <th>7965</th>\n",
       "      <td>distmod * hostgal_specz / MAX(flux.mjd)</td>\n",
       "      <td>0.851346</td>\n",
       "    </tr>\n",
       "    <tr>\n",
       "      <th>8498</th>\n",
       "      <td>distmod * hostgal_specz / MAX(flux.detected)</td>\n",
       "      <td>0.850218</td>\n",
       "    </tr>\n",
       "    <tr>\n",
       "      <th>2372</th>\n",
       "      <td>hostgal_specz * MAX(flux.flux_median)</td>\n",
       "      <td>0.849578</td>\n",
       "    </tr>\n",
       "    <tr>\n",
       "      <th>5774</th>\n",
       "      <td>distmod * hostgal_specz / MAX(flux.passband)</td>\n",
       "      <td>0.849553</td>\n",
       "    </tr>\n",
       "    <tr>\n",
       "      <th>5090</th>\n",
       "      <td>distmod / MEAN(flux.mjd_diff)</td>\n",
       "      <td>0.849286</td>\n",
       "    </tr>\n",
       "    <tr>\n",
       "      <th>7522</th>\n",
       "      <td>distmod * hostgal_specz / SKEW(flux.flux_diff)</td>\n",
       "      <td>0.849126</td>\n",
       "    </tr>\n",
       "    <tr>\n",
       "      <th>4694</th>\n",
       "      <td>distmod / MIN(flux.mjd_diff)</td>\n",
       "      <td>0.847995</td>\n",
       "    </tr>\n",
       "  </tbody>\n",
       "</table>\n",
       "</div>"
      ],
      "text/plain": [
       "                                                   Specs     Score\n",
       "2970                  hostgal_specz * MAX(flux.mjd_diff)  0.897981\n",
       "1835                  hostgal_specz * MIN(flux.mjd_diff)  0.891216\n",
       "2261                 hostgal_specz * MEAN(flux.mjd_diff)  0.889129\n",
       "4732    distmod * hostgal_specz / SKEW(flux.flux_weight)  0.875515\n",
       "4473            hostgal_specz / SKEW(flux.flux_ratio_sq)  0.870797\n",
       "4305              hostgal_specz / SKEW(flux.flux_weight)  0.870559\n",
       "2881                 hostgal_specz * MEAN(flux.detected)  0.860993\n",
       "7672  distmod * hostgal_specz / SKEW(flux.flux_ratio_sq)  0.856949\n",
       "6478                      hostgal_specz / SKEW(flux.MAD)  0.855108\n",
       "6261                hostgal_specz / SKEW(flux.flux_diff)  0.854694\n",
       "6240                        distmod / MAX(flux.mjd_diff)  0.853784\n",
       "3575               hostgal_specz * MIN(flux.flux_median)  0.853523\n",
       "1789                  hostgal_specz * STD(flux.detected)  0.851461\n",
       "7965             distmod * hostgal_specz / MAX(flux.mjd)  0.851346\n",
       "8498        distmod * hostgal_specz / MAX(flux.detected)  0.850218\n",
       "2372               hostgal_specz * MAX(flux.flux_median)  0.849578\n",
       "5774        distmod * hostgal_specz / MAX(flux.passband)  0.849553\n",
       "5090                       distmod / MEAN(flux.mjd_diff)  0.849286\n",
       "7522      distmod * hostgal_specz / SKEW(flux.flux_diff)  0.849126\n",
       "4694                        distmod / MIN(flux.mjd_diff)  0.847995"
      ]
     },
     "execution_count": 41,
     "metadata": {},
     "output_type": "execute_result"
    }
   ],
   "source": [
    "MI_top_feats = feature_selection(feature_matrix, target_vals, mutual_info_classif, 20)\n",
    "MI_top_feats"
   ]
  },
  {
   "cell_type": "code",
   "execution_count": 42,
   "metadata": {},
   "outputs": [
    {
     "data": {
      "text/plain": [
       "SUM(flux.flux_ratio_sq)    MEAN(flux.flux_weight_sum)         NaN\n",
       "                           MIN(flux.flux_weight_sum)          NaN\n",
       "                           MAX(flux.flux_weight_sum)          NaN\n",
       "MAX(flux.flux_w_mean)      MIN(flux.flux_w_mean)              NaN\n",
       "MAX(flux.flux_median)      MIN(flux.flux_median)              NaN\n",
       "MIN(flux.flux_weight_sum)  MEAN(flux.flux_weight_sum)         NaN\n",
       "MAX(flux.mjd_diff)         MEAN(flux.mjd_diff)                NaN\n",
       "MIN(flux.mjd_diff)         MEAN(flux.mjd_diff)                NaN\n",
       "MAX(flux.flux_weight_sum)  MIN(flux.flux_weight_sum)          NaN\n",
       "                           MEAN(flux.flux_weight_sum)         NaN\n",
       "MIN(flux.flux_w_mean)      MEAN(flux.flux_w_mean)             NaN\n",
       "MAX(flux.flux_rsq_sum)     MIN(flux.flux_rsq_sum)             NaN\n",
       "MIN(flux.flux_median)      MEAN(flux.flux_median)             NaN\n",
       "MAX(flux.flux_rsq_sum)     MEAN(flux.flux_rsq_sum)            NaN\n",
       "MIN(flux.flux_rsq_sum)     MEAN(flux.flux_rsq_sum)            NaN\n",
       "MAX(flux.flux_w_mean)      MEAN(flux.flux_w_mean)             NaN\n",
       "MAX(flux.mjd_diff)         MIN(flux.mjd_diff)                 NaN\n",
       "MAX(flux.flux_median)      MEAN(flux.flux_median)             NaN\n",
       "SUM(flux.flux_weight)      MEAN(flux.flux_rsq_sum)       1.000000\n",
       "                           MIN(flux.flux_rsq_sum)        1.000000\n",
       "                           MAX(flux.flux_rsq_sum)        1.000000\n",
       "SUM(flux.mjd)              COUNT(flux)                   0.999997\n",
       "SUM(flux.flux_err)         MEAN(flux.flux_err)           0.999629\n",
       "STD(flux.flux_err)         MAX(flux.flux_err)            0.999573\n",
       "SUM(flux.flux_err)         STD(flux.flux_err)            0.999499\n",
       "STD(flux.flux_err)         MEAN(flux.flux_err)           0.999271\n",
       "SUM(flux.flux_err)         MAX(flux.flux_err)            0.999119\n",
       "STD(flux.flux)             STD(flux.flux_diff)           0.998963\n",
       "SUM(flux.MAD)              MEAN(flux.MAD)                0.998813\n",
       "MAX(flux.flux_err)         MEAN(flux.flux_err)           0.998125\n",
       "MAX(flux.flux)             MAX(flux.flux_diff)           0.997702\n",
       "STD(flux.MAD)              MAX(flux.MAD)                 0.996889\n",
       "distmod                    origin                        0.994964\n",
       "SUM(flux.passband)         COUNT(flux)                   0.990318\n",
       "SUM(flux.mjd)              SUM(flux.passband)            0.990243\n",
       "MAX(flux.MAD)              MEAN(flux.MAD)                0.989047\n",
       "SKEW(flux.passband)        MEAN(flux.passband)           0.988944\n",
       "SUM(flux.flux_ratio_sq)    SUM(flux.flux_weight_sum)     0.988919\n",
       "SUM(flux.flux_weight_sum)  MAX(flux.flux_weight_sum)     0.988919\n",
       "                           MEAN(flux.flux_weight_sum)    0.988919\n",
       "dtype: float64"
      ]
     },
     "execution_count": 42,
     "metadata": {},
     "output_type": "execute_result"
    }
   ],
   "source": [
    "s = get_top_abs_correlations(auto_features, 40)\n",
    "s.where(s < 1)"
   ]
  },
  {
   "cell_type": "markdown",
   "metadata": {},
   "source": [
    "No features with an absolute correlation greater than 0.8 show up in the most important features list. Therefore, all 20 features generated in the mutual information list will be used for this training set."
   ]
  },
  {
   "cell_type": "code",
   "execution_count": 43,
   "metadata": {},
   "outputs": [],
   "source": [
    "reduced_columns = MI_top_feats['Specs']\n",
    "feature_matrix_reduced = feature_matrix[reduced_columns]\n",
    "feature_matrix_reduced['target'] = target_vals.values"
   ]
  },
  {
   "cell_type": "code",
   "execution_count": 44,
   "metadata": {},
   "outputs": [
    {
     "data": {
      "text/html": [
       "<div>\n",
       "<style scoped>\n",
       "    .dataframe tbody tr th:only-of-type {\n",
       "        vertical-align: middle;\n",
       "    }\n",
       "\n",
       "    .dataframe tbody tr th {\n",
       "        vertical-align: top;\n",
       "    }\n",
       "\n",
       "    .dataframe thead th {\n",
       "        text-align: right;\n",
       "    }\n",
       "</style>\n",
       "<table border=\"1\" class=\"dataframe\">\n",
       "  <thead>\n",
       "    <tr style=\"text-align: right;\">\n",
       "      <th></th>\n",
       "      <th>Specs</th>\n",
       "      <th>Score</th>\n",
       "    </tr>\n",
       "  </thead>\n",
       "  <tbody>\n",
       "    <tr>\n",
       "      <th>1</th>\n",
       "      <td>hostgal_specz</td>\n",
       "      <td>0.837512</td>\n",
       "    </tr>\n",
       "    <tr>\n",
       "      <th>4</th>\n",
       "      <td>distmod</td>\n",
       "      <td>0.773455</td>\n",
       "    </tr>\n",
       "    <tr>\n",
       "      <th>2</th>\n",
       "      <td>hostgal_photoz</td>\n",
       "      <td>0.768595</td>\n",
       "    </tr>\n",
       "    <tr>\n",
       "      <th>81</th>\n",
       "      <td>MEAN(flux.mjd_diff)</td>\n",
       "      <td>0.652929</td>\n",
       "    </tr>\n",
       "    <tr>\n",
       "      <th>40</th>\n",
       "      <td>MAX(flux.mjd_diff)</td>\n",
       "      <td>0.652007</td>\n",
       "    </tr>\n",
       "    <tr>\n",
       "      <th>67</th>\n",
       "      <td>MIN(flux.mjd_diff)</td>\n",
       "      <td>0.651820</td>\n",
       "    </tr>\n",
       "    <tr>\n",
       "      <th>3</th>\n",
       "      <td>hostgal_photoz_err</td>\n",
       "      <td>0.632446</td>\n",
       "    </tr>\n",
       "    <tr>\n",
       "      <th>55</th>\n",
       "      <td>SKEW(flux.flux_weight)</td>\n",
       "      <td>0.624653</td>\n",
       "    </tr>\n",
       "    <tr>\n",
       "      <th>6</th>\n",
       "      <td>origin</td>\n",
       "      <td>0.600649</td>\n",
       "    </tr>\n",
       "    <tr>\n",
       "      <th>60</th>\n",
       "      <td>SKEW(flux.MAD)</td>\n",
       "      <td>0.566248</td>\n",
       "    </tr>\n",
       "    <tr>\n",
       "      <th>18</th>\n",
       "      <td>SUM(flux.flux_median)</td>\n",
       "      <td>0.489334</td>\n",
       "    </tr>\n",
       "    <tr>\n",
       "      <th>87</th>\n",
       "      <td>MEAN(flux.flux_median)</td>\n",
       "      <td>0.476557</td>\n",
       "    </tr>\n",
       "    <tr>\n",
       "      <th>46</th>\n",
       "      <td>MAX(flux.flux_median)</td>\n",
       "      <td>0.476535</td>\n",
       "    </tr>\n",
       "    <tr>\n",
       "      <th>73</th>\n",
       "      <td>MIN(flux.flux_median)</td>\n",
       "      <td>0.476423</td>\n",
       "    </tr>\n",
       "    <tr>\n",
       "      <th>51</th>\n",
       "      <td>SKEW(flux.flux)</td>\n",
       "      <td>0.466727</td>\n",
       "    </tr>\n",
       "    <tr>\n",
       "      <th>69</th>\n",
       "      <td>MIN(flux.flux_weight)</td>\n",
       "      <td>0.466275</td>\n",
       "    </tr>\n",
       "    <tr>\n",
       "      <th>88</th>\n",
       "      <td>MEAN(flux.MAD)</td>\n",
       "      <td>0.410072</td>\n",
       "    </tr>\n",
       "    <tr>\n",
       "      <th>78</th>\n",
       "      <td>MEAN(flux.flux)</td>\n",
       "      <td>0.409327</td>\n",
       "    </tr>\n",
       "    <tr>\n",
       "      <th>65</th>\n",
       "      <td>MIN(flux.flux_err)</td>\n",
       "      <td>0.407736</td>\n",
       "    </tr>\n",
       "    <tr>\n",
       "      <th>12</th>\n",
       "      <td>SUM(flux.mjd_diff)</td>\n",
       "      <td>0.399376</td>\n",
       "    </tr>\n",
       "  </tbody>\n",
       "</table>\n",
       "</div>"
      ],
      "text/plain": [
       "                     Specs     Score\n",
       "1            hostgal_specz  0.837512\n",
       "4                  distmod  0.773455\n",
       "2           hostgal_photoz  0.768595\n",
       "81     MEAN(flux.mjd_diff)  0.652929\n",
       "40      MAX(flux.mjd_diff)  0.652007\n",
       "67      MIN(flux.mjd_diff)  0.651820\n",
       "3       hostgal_photoz_err  0.632446\n",
       "55  SKEW(flux.flux_weight)  0.624653\n",
       "6                   origin  0.600649\n",
       "60          SKEW(flux.MAD)  0.566248\n",
       "18   SUM(flux.flux_median)  0.489334\n",
       "87  MEAN(flux.flux_median)  0.476557\n",
       "46   MAX(flux.flux_median)  0.476535\n",
       "73   MIN(flux.flux_median)  0.476423\n",
       "51         SKEW(flux.flux)  0.466727\n",
       "69   MIN(flux.flux_weight)  0.466275\n",
       "88          MEAN(flux.MAD)  0.410072\n",
       "78         MEAN(flux.flux)  0.409327\n",
       "65      MIN(flux.flux_err)  0.407736\n",
       "12      SUM(flux.mjd_diff)  0.399376"
      ]
     },
     "execution_count": 44,
     "metadata": {},
     "output_type": "execute_result"
    }
   ],
   "source": [
    "# pull out the top features from the auto-created features\n",
    "feature_selection(auto_features, target_vals, mutual_info_classif, 20)"
   ]
  },
  {
   "cell_type": "code",
   "execution_count": 45,
   "metadata": {
    "scrolled": false
   },
   "outputs": [
    {
     "name": "stdout",
     "output_type": "stream",
     "text": [
      "SUM(flux.flux_ratio_sq)    MEAN(flux.flux_weight_sum)    1.000000\n",
      "                           MIN(flux.flux_weight_sum)     1.000000\n",
      "                           MAX(flux.flux_weight_sum)     1.000000\n",
      "MAX(flux.flux_w_mean)      MIN(flux.flux_w_mean)         1.000000\n",
      "MAX(flux.flux_median)      MIN(flux.flux_median)         1.000000\n",
      "MIN(flux.flux_weight_sum)  MEAN(flux.flux_weight_sum)    1.000000\n",
      "MAX(flux.mjd_diff)         MEAN(flux.mjd_diff)           1.000000\n",
      "MIN(flux.mjd_diff)         MEAN(flux.mjd_diff)           1.000000\n",
      "MAX(flux.flux_weight_sum)  MIN(flux.flux_weight_sum)     1.000000\n",
      "                           MEAN(flux.flux_weight_sum)    1.000000\n",
      "MIN(flux.flux_w_mean)      MEAN(flux.flux_w_mean)        1.000000\n",
      "MAX(flux.flux_rsq_sum)     MIN(flux.flux_rsq_sum)        1.000000\n",
      "MIN(flux.flux_median)      MEAN(flux.flux_median)        1.000000\n",
      "MAX(flux.flux_rsq_sum)     MEAN(flux.flux_rsq_sum)       1.000000\n",
      "MIN(flux.flux_rsq_sum)     MEAN(flux.flux_rsq_sum)       1.000000\n",
      "MAX(flux.flux_w_mean)      MEAN(flux.flux_w_mean)        1.000000\n",
      "MAX(flux.mjd_diff)         MIN(flux.mjd_diff)            1.000000\n",
      "MAX(flux.flux_median)      MEAN(flux.flux_median)        1.000000\n",
      "SUM(flux.flux_weight)      MEAN(flux.flux_rsq_sum)       1.000000\n",
      "                           MIN(flux.flux_rsq_sum)        1.000000\n",
      "                           MAX(flux.flux_rsq_sum)        1.000000\n",
      "SUM(flux.mjd)              COUNT(flux)                   0.999997\n",
      "SUM(flux.flux_err)         MEAN(flux.flux_err)           0.999629\n",
      "STD(flux.flux_err)         MAX(flux.flux_err)            0.999573\n",
      "SUM(flux.flux_err)         STD(flux.flux_err)            0.999499\n",
      "STD(flux.flux_err)         MEAN(flux.flux_err)           0.999271\n",
      "SUM(flux.flux_err)         MAX(flux.flux_err)            0.999119\n",
      "STD(flux.flux)             STD(flux.flux_diff)           0.998963\n",
      "SUM(flux.MAD)              MEAN(flux.MAD)                0.998813\n",
      "MAX(flux.flux_err)         MEAN(flux.flux_err)           0.998125\n",
      "MAX(flux.flux)             MAX(flux.flux_diff)           0.997702\n",
      "STD(flux.MAD)              MAX(flux.MAD)                 0.996889\n",
      "distmod                    origin                        0.994964\n",
      "SUM(flux.passband)         COUNT(flux)                   0.990318\n",
      "SUM(flux.mjd)              SUM(flux.passband)            0.990243\n",
      "MAX(flux.MAD)              MEAN(flux.MAD)                0.989047\n",
      "SKEW(flux.passband)        MEAN(flux.passband)           0.988944\n",
      "SUM(flux.flux_ratio_sq)    SUM(flux.flux_weight_sum)     0.988919\n",
      "SUM(flux.flux_weight_sum)  MAX(flux.flux_weight_sum)     0.988919\n",
      "                           MEAN(flux.flux_weight_sum)    0.988919\n",
      "dtype: float64\n"
     ]
    }
   ],
   "source": [
    "print(get_top_abs_correlations(auto_features, 40))"
   ]
  },
  {
   "cell_type": "code",
   "execution_count": 46,
   "metadata": {},
   "outputs": [],
   "source": [
    "# create subset of all the automatically produced features based on the maximum mutual information scores\n",
    "# and then deleting features if they were highly correlated with the others in the group\n",
    "auto_features_reduced = auto_features[['distmod', 'hostgal_photoz', 'hostgal_photoz_err', \n",
    "                                      'origin', 'SKEW(flux.flux)', 'MEAN(flux.flux)', \n",
    "                                      'MIN(flux.flux_err)', 'MEAN(flux.detected)', 'SKEW(flux.detected)',\n",
    "                                      'MEAN(flux.flux_err)', 'SUM(flux.detected)', 'STD(flux.detected)', \n",
    "                                      'STD(flux.flux)', 'SKEW(flux.flux_err)']]"
   ]
  },
  {
   "cell_type": "code",
   "execution_count": 47,
   "metadata": {},
   "outputs": [
    {
     "name": "stderr",
     "output_type": "stream",
     "text": [
      "C:\\Users\\Kathleen Lange\\Anaconda3\\lib\\site-packages\\sklearn\\preprocessing\\data.py:645: DataConversionWarning: Data with input dtype int8, float32, float64 were all converted to float64 by StandardScaler.\n",
      "  return self.partial_fit(X, y)\n",
      "C:\\Users\\Kathleen Lange\\Anaconda3\\lib\\site-packages\\sklearn\\base.py:464: DataConversionWarning: Data with input dtype int8, float32, float64 were all converted to float64 by StandardScaler.\n",
      "  return self.fit(X, **fit_params).transform(X)\n"
     ]
    }
   ],
   "source": [
    "#Standardize features by removing the mean and scaling to unit variance\n",
    "auto_ss = auto_features_reduced.copy()\n",
    "auto_ss.drop(columns=['origin'])\n",
    "ss = StandardScaler()\n",
    "auto_ss = pd.DataFrame(ss.fit_transform(auto_ss))"
   ]
  },
  {
   "cell_type": "code",
   "execution_count": 48,
   "metadata": {},
   "outputs": [],
   "source": [
    "auto_ss = convert_variables(auto_ss)"
   ]
  },
  {
   "cell_type": "code",
   "execution_count": 49,
   "metadata": {},
   "outputs": [],
   "source": [
    "auto_features['target'] = target_vals.values\n",
    "auto_features_reduced['target'] = target_vals.values"
   ]
  },
  {
   "cell_type": "code",
   "execution_count": 50,
   "metadata": {},
   "outputs": [],
   "source": [
    "from sklearn_pandas import DataFrameMapper\n",
    "\n",
    "auto_ss = auto_features_reduced.copy()\n",
    "auto_ss.drop(columns=['origin'], inplace = True)\n",
    "\n",
    "mapper = DataFrameMapper([(auto_ss.columns, StandardScaler())])\n",
    "scaled_features = mapper.fit_transform(auto_ss.copy(), 6) # 6 gives the # of digits to round values to\n",
    "auto_ss = pd.DataFrame(scaled_features, index=auto_ss.index, columns=auto_ss.columns)"
   ]
  },
  {
   "cell_type": "code",
   "execution_count": 51,
   "metadata": {},
   "outputs": [],
   "source": [
    "auto_ss['target'] = target_vals.values\n",
    "auto_ss = auto_ss.assign(origin=pd.Series(auto_features_reduced['origin']))"
   ]
  },
  {
   "cell_type": "markdown",
   "metadata": {},
   "source": [
    "### Save Featuretools Manual and Auto Features Dataframes"
   ]
  },
  {
   "cell_type": "code",
   "execution_count": 52,
   "metadata": {},
   "outputs": [],
   "source": [
    "# save dataframe for training sets 3, 4, 5, & 5_scaled\n",
    "with open(data_folder / 'manual_FT_features.pk', 'wb') as f:\n",
    "    pickle.dump(feature_matrix_reduced, f)\n",
    "    \n",
    "with open(data_folder / 'auto_FT_all_features.pk', 'wb') as f:\n",
    "    pickle.dump(auto_features, f)\n",
    "    \n",
    "with open(data_folder / 'auto_FT_reduced_features.pk', 'wb') as f:\n",
    "    pickle.dump(auto_features_reduced, f)\n",
    "    \n",
    "with open(data_folder / 'auto_FT_ss.pk', 'wb') as f:\n",
    "    pickle.dump(auto_ss, f)"
   ]
  }
 ],
 "metadata": {
  "kernelspec": {
   "display_name": "Python 3",
   "language": "python",
   "name": "python3"
  },
  "language_info": {
   "codemirror_mode": {
    "name": "ipython",
    "version": 3
   },
   "file_extension": ".py",
   "mimetype": "text/x-python",
   "name": "python",
   "nbconvert_exporter": "python",
   "pygments_lexer": "ipython3",
   "version": "3.7.1"
  },
  "varInspector": {
   "cols": {
    "lenName": 16,
    "lenType": 16,
    "lenVar": 40
   },
   "kernels_config": {
    "python": {
     "delete_cmd_postfix": "",
     "delete_cmd_prefix": "del ",
     "library": "var_list.py",
     "varRefreshCmd": "print(var_dic_list())"
    },
    "r": {
     "delete_cmd_postfix": ") ",
     "delete_cmd_prefix": "rm(",
     "library": "var_list.r",
     "varRefreshCmd": "cat(var_dic_list()) "
    }
   },
   "types_to_exclude": [
    "module",
    "function",
    "builtin_function_or_method",
    "instance",
    "_Feature"
   ],
   "window_display": false
  }
 },
 "nbformat": 4,
 "nbformat_minor": 2
}
